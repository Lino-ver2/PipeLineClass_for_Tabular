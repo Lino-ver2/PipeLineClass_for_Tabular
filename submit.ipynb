{
 "cells": [
  {
   "cell_type": "code",
   "execution_count": 1,
   "metadata": {},
   "outputs": [],
   "source": [
    "import pickle\n",
    "from pathlib import Path\n",
    "import sys\n",
    "\n",
    "import pandas as pd\n",
    "from sklearn.metrics import accuracy_score\n",
    "\n",
    "rank = 0 \n",
    "#sys.path[0] = f'{Path().resolve().parents[rank]}' # mymoduleが上の階層にある場合rankを調整してコメント解除\n",
    "from module.mymodule import PipeLine, df_copy, train_or_test, test_eval\n",
    "from module.kayano import age_categolize, stSlope_categolize, cholesterol_mean"
   ]
  },
  {
   "cell_type": "markdown",
   "metadata": {},
   "source": [
    "### データセットの用意"
   ]
  },
  {
   "cell_type": "code",
   "execution_count": 2,
   "metadata": {},
   "outputs": [],
   "source": [
    "df = pd.read_csv('./data/train.csv')\n",
    "df_x = df.iloc[:, :-1]\n",
    "df_y = df.iloc[:, -1]"
   ]
  },
  {
   "cell_type": "markdown",
   "metadata": {},
   "source": [
    "### パイプライン候補の準備"
   ]
  },
  {
   "cell_type": "code",
   "execution_count": 3,
   "metadata": {},
   "outputs": [],
   "source": [
    "def pipe_1(df, train_flg, split_kwrg):\n",
    "    pipe = PipeLine()\n",
    "    pipe.train_flg = train_flg\n",
    "    pipe(df)\n",
    "    pipe.standard_scaler()\n",
    "    pack = train_or_test(pipe, train_flg, split_kwrg)\n",
    "    return pack\n",
    "\n",
    "def pipe_2(df, train_flg, split_kwrg):\n",
    "    pipe = PipeLine()\n",
    "    pipe.train_flg = train_flg\n",
    "    pipe(df)\n",
    "    pipe.df_num = df_copy(pipe.df_num, stSlope_categolize(pipe.df_cat), 'ST_Slope')\n",
    "    pipe.standard_scaler()\n",
    "    pack = train_or_test(pipe, train_flg, split_kwrg)\n",
    "    return pack\n",
    "\n",
    "def pipe_3(df, train_flg, split_kwrg):\n",
    "    pipe = PipeLine()\n",
    "    pipe.train_flg = train_flg\n",
    "    pipe.train_flg = train_flg\n",
    "    pipe(df)\n",
    "    pipe.df_num = cholesterol_mean(pipe.df_num)\n",
    "    pipe.standard_scaler()\n",
    "    pack = train_or_test(pipe, train_flg, split_kwrg)\n",
    "    return pack"
   ]
  },
  {
   "cell_type": "markdown",
   "metadata": {},
   "source": [
    "### データセットの作成"
   ]
  },
  {
   "cell_type": "code",
   "execution_count": 4,
   "metadata": {},
   "outputs": [],
   "source": [
    "split_kwrg = {}\n",
    "train_flg = False\n",
    "\n",
    "# パイプライをセット\n",
    "pipe_lines = [pipe_1, pipe_2, pipe_3]\n",
    "data_set = {pipe.__name__: pipe(df_x, train_flg, split_kwrg).values for pipe in pipe_lines}"
   ]
  },
  {
   "cell_type": "markdown",
   "metadata": {},
   "source": [
    "### モデルのロード"
   ]
  },
  {
   "cell_type": "code",
   "execution_count": 5,
   "metadata": {},
   "outputs": [],
   "source": [
    "with open('./retrained_model.pkl', 'rb') as f:\n",
    "    train_models = pickle.load(f)"
   ]
  },
  {
   "cell_type": "markdown",
   "metadata": {},
   "source": [
    "### モデルの評価と選定"
   ]
  },
  {
   "cell_type": "code",
   "execution_count": 6,
   "metadata": {},
   "outputs": [
    {
     "data": {
      "text/html": [
       "<div>\n",
       "<style scoped>\n",
       "    .dataframe tbody tr th:only-of-type {\n",
       "        vertical-align: middle;\n",
       "    }\n",
       "\n",
       "    .dataframe tbody tr th {\n",
       "        vertical-align: top;\n",
       "    }\n",
       "\n",
       "    .dataframe thead th {\n",
       "        text-align: right;\n",
       "    }\n",
       "</style>\n",
       "<table border=\"1\" class=\"dataframe\">\n",
       "  <thead>\n",
       "    <tr style=\"text-align: right;\">\n",
       "      <th></th>\n",
       "      <th>XGBClassifier</th>\n",
       "      <th>SVC</th>\n",
       "    </tr>\n",
       "  </thead>\n",
       "  <tbody>\n",
       "    <tr>\n",
       "      <th>pipe_3</th>\n",
       "      <td>0.978193</td>\n",
       "      <td>0.839564</td>\n",
       "    </tr>\n",
       "    <tr>\n",
       "      <th>pipe_1</th>\n",
       "      <td>0.937695</td>\n",
       "      <td>0.856698</td>\n",
       "    </tr>\n",
       "    <tr>\n",
       "      <th>pipe_2</th>\n",
       "      <td>0.912773</td>\n",
       "      <td>0.892523</td>\n",
       "    </tr>\n",
       "  </tbody>\n",
       "</table>\n",
       "</div>"
      ],
      "text/plain": [
       "        XGBClassifier       SVC\n",
       "pipe_3       0.978193  0.839564\n",
       "pipe_1       0.937695  0.856698\n",
       "pipe_2       0.912773  0.892523"
      ]
     },
     "execution_count": 6,
     "metadata": {},
     "output_type": "execute_result"
    }
   ],
   "source": [
    "evaluations = test_eval(train_models, pipe_lines, data_set, df_y)\n",
    "evaluations.sort_values('XGBClassifier', ascending=False)"
   ]
  },
  {
   "cell_type": "code",
   "execution_count": 7,
   "metadata": {},
   "outputs": [
    {
     "data": {
      "text/html": [
       "<div>\n",
       "<style scoped>\n",
       "    .dataframe tbody tr th:only-of-type {\n",
       "        vertical-align: middle;\n",
       "    }\n",
       "\n",
       "    .dataframe tbody tr th {\n",
       "        vertical-align: top;\n",
       "    }\n",
       "\n",
       "    .dataframe thead th {\n",
       "        text-align: right;\n",
       "    }\n",
       "</style>\n",
       "<table border=\"1\" class=\"dataframe\">\n",
       "  <thead>\n",
       "    <tr style=\"text-align: right;\">\n",
       "      <th></th>\n",
       "      <th>XGBClassifier</th>\n",
       "      <th>SVC</th>\n",
       "    </tr>\n",
       "  </thead>\n",
       "  <tbody>\n",
       "    <tr>\n",
       "      <th>pipe_2</th>\n",
       "      <td>0.912773</td>\n",
       "      <td>0.892523</td>\n",
       "    </tr>\n",
       "    <tr>\n",
       "      <th>pipe_1</th>\n",
       "      <td>0.937695</td>\n",
       "      <td>0.856698</td>\n",
       "    </tr>\n",
       "    <tr>\n",
       "      <th>pipe_3</th>\n",
       "      <td>0.978193</td>\n",
       "      <td>0.839564</td>\n",
       "    </tr>\n",
       "  </tbody>\n",
       "</table>\n",
       "</div>"
      ],
      "text/plain": [
       "        XGBClassifier       SVC\n",
       "pipe_2       0.912773  0.892523\n",
       "pipe_1       0.937695  0.856698\n",
       "pipe_3       0.978193  0.839564"
      ]
     },
     "execution_count": 7,
     "metadata": {},
     "output_type": "execute_result"
    }
   ],
   "source": [
    "evaluations.sort_values('SVC', ascending=False)"
   ]
  }
 ],
 "metadata": {
  "kernelspec": {
   "display_name": "Python 3.9.13 ('datascience')",
   "language": "python",
   "name": "python3"
  },
  "language_info": {
   "codemirror_mode": {
    "name": "ipython",
    "version": 3
   },
   "file_extension": ".py",
   "mimetype": "text/x-python",
   "name": "python",
   "nbconvert_exporter": "python",
   "pygments_lexer": "ipython3",
   "version": "3.9.13"
  },
  "orig_nbformat": 4,
  "vscode": {
   "interpreter": {
    "hash": "596b88989fc0dc1fed1e4e461c9c9f08188a37ef0bdca6efc263739311be1bbe"
   }
  }
 },
 "nbformat": 4,
 "nbformat_minor": 2
}
