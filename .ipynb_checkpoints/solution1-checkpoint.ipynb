{
 "cells": [
  {
   "cell_type": "markdown",
   "metadata": {},
   "source": [
    "# 1　Pythonによる計算練習"
   ]
  },
  {
   "cell_type": "code",
   "execution_count": 1,
   "metadata": {},
   "outputs": [],
   "source": [
    "# import文\n",
    "import numpy as np\n",
    "import pandas as pd\n",
    "import matplotlib.pyplot as plt\n",
    "from scipy.stats import norm"
   ]
  },
  {
   "cell_type": "markdown",
   "metadata": {},
   "source": [
    "## 問題1"
   ]
  },
  {
   "cell_type": "markdown",
   "metadata": {},
   "source": [
    "あるお店に毎日平均100人、標準偏差10人で来場者が来ているとする。累計来場者が3000人になるのは何日後だろうか？最も確率が高い値を答えてください。"
   ]
  },
  {
   "cell_type": "markdown",
   "metadata": {},
   "source": [
    "### 解答その1"
   ]
  },
  {
   "cell_type": "code",
   "execution_count": 2,
   "metadata": {},
   "outputs": [
    {
     "data": {
      "image/png": "[encoded data removed]",
      "text/plain": [
       "<Figure size 432x288 with 1 Axes>"
      ]
     },
     "metadata": {
      "needs_background": "light"
     },
     "output_type": "display_data"
    }
   ],
   "source": [
    "n_iter = 10**5\n",
    "result = []\n",
    "\n",
    "for i in range(n_iter):\n",
    "    visitor_each_day = np.random.normal(size = 50, loc = 100, scale = 10)\n",
    "    visitor_cumsum = visitor_each_day.cumsum()\n",
    "    day_over_3000 = np.where(visitor_cumsum >= 3000)[0] + 1\n",
    "    result.append(day_over_3000.min())\n",
    "    \n",
    "day, count = np.unique(result, return_counts = True)\n",
    "plt.bar(day, count)\n",
    "plt.show()"
   ]
  },
  {
   "cell_type": "code",
   "execution_count": 3,
   "metadata": {},
   "outputs": [
    {
     "data": {
      "text/html": [
       "<div>\n",
       "<style scoped>\n",
       "    .dataframe tbody tr th:only-of-type {\n",
       "        vertical-align: middle;\n",
       "    }\n",
       "\n",
       "    .dataframe tbody tr th {\n",
       "        vertical-align: top;\n",
       "    }\n",
       "\n",
       "    .dataframe thead th {\n",
       "        text-align: right;\n",
       "    }\n",
       "</style>\n",
       "<table border=\"1\" class=\"dataframe\">\n",
       "  <thead>\n",
       "    <tr style=\"text-align: right;\">\n",
       "      <th></th>\n",
       "      <th>day</th>\n",
       "      <th>count</th>\n",
       "      <th>prob</th>\n",
       "    </tr>\n",
       "  </thead>\n",
       "  <tbody>\n",
       "    <tr>\n",
       "      <th>0</th>\n",
       "      <td>28</td>\n",
       "      <td>6</td>\n",
       "      <td>0.00006</td>\n",
       "    </tr>\n",
       "    <tr>\n",
       "      <th>1</th>\n",
       "      <td>29</td>\n",
       "      <td>3187</td>\n",
       "      <td>0.03187</td>\n",
       "    </tr>\n",
       "    <tr>\n",
       "      <th>2</th>\n",
       "      <td>30</td>\n",
       "      <td>46719</td>\n",
       "      <td>0.46719</td>\n",
       "    </tr>\n",
       "    <tr>\n",
       "      <th>3</th>\n",
       "      <td>31</td>\n",
       "      <td>46517</td>\n",
       "      <td>0.46517</td>\n",
       "    </tr>\n",
       "    <tr>\n",
       "      <th>4</th>\n",
       "      <td>32</td>\n",
       "      <td>3548</td>\n",
       "      <td>0.03548</td>\n",
       "    </tr>\n",
       "    <tr>\n",
       "      <th>5</th>\n",
       "      <td>33</td>\n",
       "      <td>23</td>\n",
       "      <td>0.00023</td>\n",
       "    </tr>\n",
       "  </tbody>\n",
       "</table>\n",
       "</div>"
      ],
      "text/plain": [
       "   day  count     prob\n",
       "0   28      6  0.00006\n",
       "1   29   3187  0.03187\n",
       "2   30  46719  0.46719\n",
       "3   31  46517  0.46517\n",
       "4   32   3548  0.03548\n",
       "5   33     23  0.00023"
      ]
     },
     "execution_count": 3,
     "metadata": {},
     "output_type": "execute_result"
    }
   ],
   "source": [
    "pd.DataFrame({\"day\" : day, \n",
    "              \"count\" : count, \n",
    "              \"prob\" : count/count.sum()})"
   ]
  },
  {
   "cell_type": "markdown",
   "metadata": {},
   "source": [
    "### 解答その2"
   ]
  },
  {
   "cell_type": "code",
   "execution_count": 4,
   "metadata": {},
   "outputs": [],
   "source": [
    "def calc_prob(d : int = 30) -> float:\n",
    "    prob_d = 1.0 - norm(loc = 100*d, scale = np.sqrt(d*10**2)).cdf(x = 3000)\n",
    "    prob_pre = 1.0 - norm(loc = 100*(d-1), scale = np.sqrt((d-1)*10**2)).cdf(x = 3000)\n",
    "    return prob_d - prob_pre"
   ]
  },
  {
   "cell_type": "code",
   "execution_count": 5,
   "metadata": {},
   "outputs": [
    {
     "data": {
      "image/png": "[encoded data removed]",
      "text/plain": [
       "<Figure size 432x288 with 1 Axes>"
      ]
     },
     "metadata": {
      "needs_background": "light"
     },
     "output_type": "display_data"
    }
   ],
   "source": [
    "day = np.arange(28, 33+1)\n",
    "prob = calc_prob(d = day)\n",
    "plt.bar(day, prob)\n",
    "plt.show()"
   ]
  },
  {
   "cell_type": "markdown",
   "metadata": {},
   "source": [
    "## 問題2"
   ]
  },
  {
   "cell_type": "markdown",
   "metadata": {},
   "source": [
    "ある店のレジ係一人がお客さん一人を捌く時間T[分]は、`lambda=1` の指数分布$Ex(1)$に従っているとします。レジ係を3名準備したとき、10名のお客さんを捌き終わる時間は平均で何分でしょうか。10名には予め一列に並んで待機してもらい、空いたレジに順にお客さんを流すことにします。"
   ]
  },
  {
   "cell_type": "code",
   "execution_count": 6,
   "metadata": {},
   "outputs": [
    {
     "data": {
      "text/plain": [
       "2"
      ]
     },
     "execution_count": 6,
     "metadata": {},
     "output_type": "execute_result"
    }
   ],
   "source": [
    "time_first_3customers = np.random.exponential(size = 3, scale = 1.0)\n",
    "finish_regi_id = time_first_3customers.argmin()\n",
    "finish_regi_id"
   ]
  },
  {
   "cell_type": "code",
   "execution_count": 7,
   "metadata": {},
   "outputs": [
    {
     "data": {
      "image/png": "[encoded data removed]",
      "text/plain": [
       "<Figure size 432x288 with 1 Axes>"
      ]
     },
     "metadata": {
      "needs_background": "light"
     },
     "output_type": "display_data"
    }
   ],
   "source": [
    "n_iter = 10**5\n",
    "result = []\n",
    "\n",
    "for i in range(n_iter):\n",
    "    time_first_3customers = np.random.exponential(size = 3, scale = 1.0)\n",
    "    time_current_status = time_first_3customers\n",
    "    \n",
    "    for j in range(4, 10+1):\n",
    "        finished_regi_id = time_current_status.argmin()\n",
    "        time_current_status[finished_regi_id] += np.random.exponential(size = 1, scale = 1.0)\n",
    "        \n",
    "    result.append(time_current_status.max())\n",
    "    \n",
    "plt.hist(result)\n",
    "plt.show()"
   ]
  },
  {
   "cell_type": "code",
   "execution_count": 8,
   "metadata": {},
   "outputs": [
    {
     "name": "stdout",
     "output_type": "stream",
     "text": [
      "期待値 : 4.163798029742984\n",
      "標準偏差 : 1.4606949145879022\n"
     ]
    }
   ],
   "source": [
    "result = np.asarray(result)\n",
    "print(\"期待値 : {}\".format(result.mean()))\n",
    "print(\"標準偏差 : {}\".format(result.std()))"
   ]
  },
  {
   "cell_type": "markdown",
   "metadata": {},
   "source": [
    "## 問題3"
   ]
  },
  {
   "cell_type": "markdown",
   "metadata": {},
   "source": [
    "あるライターの記事は、一読者あたり確率$p$でサポートボタンを押されます。サポートボタンを押した場合は、$500$円単位でサポートされ、サポート金額を$500X$と表すとき、$X$は期待値$\\lambda$のPoisson分布に従うとします。（Poisson分布なので、$X=0$もありえます。この場合はサポートボタンを押したが、サポートはしなかったと解釈することにします。）\n",
    "\n",
    "(1) $p=0.1$, $\\lambda=1$としたとします。100名の読者を得たあとで得られるサポート額の期待値を求めてください。\n",
    "\n",
    "(2) $p$と$\\lambda$を任意の値にしたとき、100名の読者を得たあとで得られるサポート額の期待値を求める関数を実装してください。\n",
    "\n",
    "(3) 以上の問題は手計算で厳密に計算できます。実際に手計算してみてください。"
   ]
  },
  {
   "cell_type": "code",
   "execution_count": 9,
   "metadata": {},
   "outputs": [
    {
     "name": "stdout",
     "output_type": "stream",
     "text": [
      "期待値 : 5016.765\n"
     ]
    },
    {
     "data": {
      "image/png": "[encoded data removed]",
      "text/plain": [
       "<Figure size 432x288 with 1 Axes>"
      ]
     },
     "metadata": {
      "needs_background": "light"
     },
     "output_type": "display_data"
    }
   ],
   "source": [
    "# (1)\n",
    "n_iter = 10**5\n",
    "result = []\n",
    "\n",
    "for i in range(n_iter):\n",
    "    support_flag_each_viewer = np.random.binomial(size = 100, n = 1, p = 0.1)\n",
    "    support_value_each_viewer = 500 * np.random.poisson(size = 100, lam = 1)\n",
    "    support_amount = (support_flag_each_viewer * support_value_each_viewer).sum()\n",
    "    result.append(support_amount)\n",
    "    \n",
    "print(\"期待値 : {}\".format(np.asarray(result).mean()))\n",
    "plt.hist(result)\n",
    "plt.show()"
   ]
  },
  {
   "cell_type": "code",
   "execution_count": 10,
   "metadata": {},
   "outputs": [],
   "source": [
    "# (2)\n",
    "def support_amount_exp(p : float, lam : float, n_iter : int = 10**5) -> float:\n",
    "    n_iter = n_iter\n",
    "    result = []\n",
    "\n",
    "    for i in range(n_iter):\n",
    "        support_flag_each_viewer = np.random.binomial(size = 100, n = 1, p = p)\n",
    "        support_value_each_viewer = 500 * np.random.poisson(size = 100, lam = lam)\n",
    "        support_amount = (support_flag_each_viewer * support_value_each_viewer).sum()\n",
    "        result.append(support_amount)\n",
    "\n",
    "    return(np.asarray(result).mean())"
   ]
  },
  {
   "cell_type": "code",
   "execution_count": 11,
   "metadata": {},
   "outputs": [
    {
     "data": {
      "text/plain": [
       "4951.75"
      ]
     },
     "execution_count": 11,
     "metadata": {},
     "output_type": "execute_result"
    }
   ],
   "source": [
    "support_amount_exp(p = 0.1, lam = 1.0, n_iter = 10**4)"
   ]
  },
  {
   "cell_type": "markdown",
   "metadata": {},
   "source": [
    "## 問題4"
   ]
  },
  {
   "cell_type": "markdown",
   "metadata": {},
   "source": [
    "記事の文字数$x$に応じて、閲覧者一人あたりについて\n",
    "* $R$ : サポートするかいなか。するなら$1$、しないなら$0$。$R$は$p = \\sigma(-0.5x/1000-3.0)$のベルヌーイ分布に従う。\n",
    "* $500M$ : サポート金額。$M$は$Po(x/1000)$のポアソン分布に従う。\n",
    "\n",
    "とします。ここで$\\sigma$はシグモイド関数とします。\n",
    "\n",
    "(1) $\\sigma(-0.5x/1000-3.0)$のグラフを$0\\leq x\\leq 5000$の範囲でかいてみてください。\n",
    "\n",
    "(2) 100名が記事を閲覧したときにもらえる合計サポート金額の期待値を計算する関数を書いてください。\n",
    "\n",
    "(3) $0\\leq x\\leq5000$の間で合計サポート金額の期待値をグラフで表してください。また、最も合計サポート金額の期待値が高くなる文字数を探してください。\n",
    "\n",
    "(4) この問題で「もっとこういうこともしたほうがよい」という点があれば指摘してください。"
   ]
  },
  {
   "cell_type": "code",
   "execution_count": 12,
   "metadata": {},
   "outputs": [
    {
     "data": {
      "image/png": "[encoded data removed]",
      "text/plain": [
       "<Figure size 432x288 with 1 Axes>"
      ]
     },
     "metadata": {
      "needs_background": "light"
     },
     "output_type": "display_data"
    }
   ],
   "source": [
    "# (1)\n",
    "def sigmoid(x : float) -> float:\n",
    "    return 1.0/(1.0 + np.exp(-x))\n",
    "\n",
    "def prob_support(x : int) -> float:\n",
    "    return sigmoid(-0.5*x/1000 - 3.0)\n",
    "\n",
    "x = np.linspace(start = 0.0, stop = 5000.0, num = 100)\n",
    "y = prob_support(x)\n",
    "\n",
    "plt.plot(x, y)\n",
    "plt.show()"
   ]
  },
  {
   "cell_type": "code",
   "execution_count": 13,
   "metadata": {},
   "outputs": [],
   "source": [
    "# (2)\n",
    "def support_amount_exp(x : int, n_iter :float = 10**5) -> float:\n",
    "    n_iter = n_iter\n",
    "    result = []\n",
    "    \n",
    "    p = prob_support(x)\n",
    "    lam = x / 1000\n",
    "\n",
    "    for i in range(n_iter):\n",
    "        support_flag_each_viewer = np.random.binomial(size = 100, n = 1, p = p)\n",
    "        support_value_each_viewer = 500 * np.random.poisson(size = 100, lam = lam)\n",
    "        support_amount = (support_flag_each_viewer * support_value_each_viewer).sum()\n",
    "        result.append(support_amount)\n",
    "\n",
    "    return(np.asarray(result).mean())"
   ]
  },
  {
   "cell_type": "code",
   "execution_count": 14,
   "metadata": {},
   "outputs": [
    {
     "data": {
      "text/plain": [
       "1467.27"
      ]
     },
     "execution_count": 14,
     "metadata": {},
     "output_type": "execute_result"
    }
   ],
   "source": [
    "support_amount_exp(x = 1000)"
   ]
  },
  {
   "cell_type": "code",
   "execution_count": 15,
   "metadata": {},
   "outputs": [
    {
     "data": {
      "image/png": "[encoded data removed]",
      "text/plain": [
       "<Figure size 432x288 with 1 Axes>"
      ]
     },
     "metadata": {
      "needs_background": "light"
     },
     "output_type": "display_data"
    }
   ],
   "source": [
    "# (3)\n",
    "x = np.linspace(start = 0.0, stop = 5000.0, num = 100)\n",
    "y = [support_amount_exp(x_each) for x_each in x]\n",
    "\n",
    "plt.plot(x, y)\n",
    "plt.show()"
   ]
  },
  {
   "cell_type": "code",
   "execution_count": 16,
   "metadata": {},
   "outputs": [
    {
     "data": {
      "text/plain": [
       "2070.7070707070707"
      ]
     },
     "execution_count": 16,
     "metadata": {},
     "output_type": "execute_result"
    }
   ],
   "source": [
    "x[np.argmax(y)]"
   ]
  },
  {
   "cell_type": "code",
   "execution_count": 17,
   "metadata": {},
   "outputs": [],
   "source": [
    "# (4)\n",
    "def support_amount(x : int, n_iter : int = 10**5) -> list:\n",
    "    n_iter = n_iter\n",
    "    result = []\n",
    "    \n",
    "    p = prob_support(x)\n",
    "    lam = x / 1000\n",
    "\n",
    "    for i in range(n_iter):\n",
    "        support_flag_each_viewer = np.random.binomial(size = 100, n = 1, p = p)\n",
    "        support_value_each_viewer = 500 * np.random.poisson(size = 100, lam = lam)\n",
    "        support_amount = (support_flag_each_viewer * support_value_each_viewer).sum()\n",
    "        result.append(support_amount)\n",
    "\n",
    "    return [np.asarray(result).mean(), \n",
    "            np.quantile(result, q = 0.25), \n",
    "            np.quantile(result, q = 0.75)]"
   ]
  },
  {
   "cell_type": "code",
   "execution_count": 18,
   "metadata": {},
   "outputs": [
    {
     "data": {
      "image/png": "[encoded data removed]",
      "text/plain": [
       "<Figure size 432x288 with 1 Axes>"
      ]
     },
     "metadata": {
      "needs_background": "light"
     },
     "output_type": "display_data"
    }
   ],
   "source": [
    "x = np.linspace(start = 0.0, stop = 5000.0, num = 100)\n",
    "y = np.asarray([support_amount(x_each) for x_each in x])\n",
    "y_mean, y_1Q, y_3Q = y[:, 0], y[:, 1], y[:, 2]\n",
    "\n",
    "plt.plot(x, y_mean)\n",
    "plt.fill_between(x, y_1Q, y_3Q, alpha = 0.5)\n",
    "plt.show()"
   ]
  }
 ],
 "metadata": {
  "kernelspec": {
   "display_name": "Python 3",
   "language": "python",
   "name": "python3"
  },
  "language_info": {
   "codemirror_mode": {
    "name": "ipython",
    "version": 3
   },
   "file_extension": ".py",
   "mimetype": "text/x-python",
   "name": "python",
   "nbconvert_exporter": "python",
   "pygments_lexer": "ipython3",
   "version": "3.8.2"
  }
 },
 "nbformat": 4,
 "nbformat_minor": 4
}
