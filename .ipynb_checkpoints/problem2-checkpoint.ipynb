{
 "cells": [
  {
   "cell_type": "markdown",
   "metadata": {},
   "source": [
    "# 2　データ分析演習（その1）"
   ]
  },
  {
   "cell_type": "markdown",
   "metadata": {},
   "source": [
    "## タスクの概要"
   ]
  },
  {
   "cell_type": "markdown",
   "metadata": {},
   "source": [
    "**目標**　患者の11の特徴から心臓病か否かを分類する。"
   ]
  },
  {
   "cell_type": "markdown",
   "metadata": {},
   "source": [
    "データは、`data`ディレクトリに`train.csv`, `test.csv`という名前のデータがあります。記録されている特徴量は以下のとおりです。学習モデルを作るときには、`train.csv`のみを用いてよいものとします。以下の2つのことに挑戦してください。\n",
    "\n",
    "1. 心臓病になりやすい患者さんとはどんなひとかを説明してください。\n",
    "2. デモでみせるモデルよりも`test.csv`の上で精度の高いモデルを作ってください。"
   ]
  },
  {
   "cell_type": "markdown",
   "metadata": {},
   "source": [
    "## 特徴量"
   ]
  },
  {
   "cell_type": "markdown",
   "metadata": {},
   "source": [
    "* Age : 患者の年齢\n",
    "* Sex : 患者の性別\n",
    "    * `M`は男性, `F`は女性\n",
    "* ChestPainType : 筋痛の種類\n",
    "    * `TA`は典型的狭心症, `ATA`は非典型狭心症, `NAP`は非狭心症の痛み, `ASY`は無症状\n",
    "* RestingBP : 安静時血圧\n",
    "* Cholesterol : 血清コレステロール値\n",
    "* FastingBS : 空腹時血糖値\n",
    "    * `1`は`FastingBS>1`, `0`はそれ以外\n",
    "* RestingECG : 安静時心電図結果\n",
    "    * `Normal`は正常, `ST`はST-T波に異常, `LVH`は左心室肥大の可能性・確定\n",
    "* MaxHR : 到達最大心拍数\n",
    "* ExerciseAngina : 運動誘発性狭心症\n",
    "    * `Y`はあり, `N`はなし\n",
    "* Oldpeak : うつ状態で測定された数値\n",
    "* ST_Slope : 運動時のSTピークセグメントの動き\n",
    "    * `Up`はupsloping, `flat`は平坦, `Down`はdownsloping"
   ]
  },
  {
   "cell_type": "markdown",
   "metadata": {},
   "source": [
    "心臓病かいなかは`HeartDisease`に`1`が心臓病, `0`が正常として記録されています。"
   ]
  }
 ],
 "metadata": {
  "kernelspec": {
   "display_name": "Python 3",
   "language": "python",
   "name": "python3"
  },
  "language_info": {
   "codemirror_mode": {
    "name": "ipython",
    "version": 3
   },
   "file_extension": ".py",
   "mimetype": "text/x-python",
   "name": "python",
   "nbconvert_exporter": "python",
   "pygments_lexer": "ipython3",
   "version": "3.8.2"
  }
 },
 "nbformat": 4,
 "nbformat_minor": 4
}
