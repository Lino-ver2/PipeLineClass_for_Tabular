{
 "cells": [
  {
   "cell_type": "code",
   "execution_count": 1,
   "metadata": {},
   "outputs": [],
   "source": [
    "from pathlib import Path\n",
    "import sys\n",
    "\n",
    "import numpy as np\n",
    "import pandas as pd\n",
    "from sklearn.svm import SVC\n",
    "from sklearn.tree import DecisionTreeClassifier\n",
    "\n",
    "\n",
    "rank = 0 \n",
    "sys.path[0] = f'{Path().resolve().parents[rank]}' # mymoduleが上の階層にある場合rankを調整してコメント解除\n",
    "from mymodule import PipeLine"
   ]
  },
  {
   "cell_type": "markdown",
   "metadata": {},
   "source": [
    "## ホールドアウト法による特徴量の比較"
   ]
  },
  {
   "cell_type": "code",
   "execution_count": 2,
   "metadata": {},
   "outputs": [],
   "source": [
    "########################## パイプラインのパターンを用意 ##############################\n",
    "def pipe_1(df, valid, model, valid_args, params, viewer=False):\n",
    "    pipe = PipeLine()\n",
    "    pipe.viewer = viewer\n",
    "    pipe(df)\n",
    "    pipe.standard_scaler()\n",
    "    pipe.one_hot(['ChestPainType'])\n",
    "    model = pipe.training(valid, model, valid_args, params)\n",
    "    return model\n",
    "\n",
    "def pipe_2(df, valid, model, valid_args, params, viewer=False):\n",
    "    pipe = PipeLine()\n",
    "    pipe.viewer = viewer\n",
    "    pipe(df)\n",
    "    pipe.standard_scaler()\n",
    "    model = pipe.training(valid, model, valid_args ,params)\n",
    "    return model\n",
    "\n",
    "def pipe_3(df, valid, model, valid_args, params, viewer=False):\n",
    "    pipe = PipeLine()\n",
    "    pipe.viewer = viewer\n",
    "    pipe(df)\n",
    "    pipe.standard_scaler()\n",
    "    pipe.one_hot(['ChestPainType'])\n",
    "    model = pipe.training(valid, model, valid_args ,params)\n",
    "    return model"
   ]
  },
  {
   "cell_type": "markdown",
   "metadata": {},
   "source": [
    "### 出力結果"
   ]
  },
  {
   "cell_type": "code",
   "execution_count": 29,
   "metadata": {},
   "outputs": [
    {
     "name": "stdout",
     "output_type": "stream",
     "text": [
      "#################### pipe_1の結果 ####################\n"
     ]
    },
    {
     "data": {
      "text/html": [
       "<div>\n",
       "<style scoped>\n",
       "    .dataframe tbody tr th:only-of-type {\n",
       "        vertical-align: middle;\n",
       "    }\n",
       "\n",
       "    .dataframe tbody tr th {\n",
       "        vertical-align: top;\n",
       "    }\n",
       "\n",
       "    .dataframe thead th {\n",
       "        text-align: right;\n",
       "    }\n",
       "</style>\n",
       "<table border=\"1\" class=\"dataframe\">\n",
       "  <thead>\n",
       "    <tr style=\"text-align: right;\">\n",
       "      <th></th>\n",
       "      <th>accuracy_score</th>\n",
       "      <th>precision_score</th>\n",
       "      <th>recall_score</th>\n",
       "      <th>f1_score</th>\n",
       "    </tr>\n",
       "  </thead>\n",
       "  <tbody>\n",
       "    <tr>\n",
       "      <th>train</th>\n",
       "      <td>1.000000</td>\n",
       "      <td>1.000000</td>\n",
       "      <td>1.000000</td>\n",
       "      <td>1.000000</td>\n",
       "    </tr>\n",
       "    <tr>\n",
       "      <th>test</th>\n",
       "      <td>0.715026</td>\n",
       "      <td>0.764228</td>\n",
       "      <td>0.783333</td>\n",
       "      <td>0.773663</td>\n",
       "    </tr>\n",
       "  </tbody>\n",
       "</table>\n",
       "</div>"
      ],
      "text/plain": [
       "       accuracy_score  precision_score  recall_score  f1_score\n",
       "train        1.000000         1.000000      1.000000  1.000000\n",
       "test         0.715026         0.764228      0.783333  0.773663"
      ]
     },
     "metadata": {},
     "output_type": "display_data"
    },
    {
     "name": "stdout",
     "output_type": "stream",
     "text": [
      "\n",
      "#################### pipe_2の結果 ####################\n"
     ]
    },
    {
     "data": {
      "text/html": [
       "<div>\n",
       "<style scoped>\n",
       "    .dataframe tbody tr th:only-of-type {\n",
       "        vertical-align: middle;\n",
       "    }\n",
       "\n",
       "    .dataframe tbody tr th {\n",
       "        vertical-align: top;\n",
       "    }\n",
       "\n",
       "    .dataframe thead th {\n",
       "        text-align: right;\n",
       "    }\n",
       "</style>\n",
       "<table border=\"1\" class=\"dataframe\">\n",
       "  <thead>\n",
       "    <tr style=\"text-align: right;\">\n",
       "      <th></th>\n",
       "      <th>accuracy_score</th>\n",
       "      <th>precision_score</th>\n",
       "      <th>recall_score</th>\n",
       "      <th>f1_score</th>\n",
       "    </tr>\n",
       "  </thead>\n",
       "  <tbody>\n",
       "    <tr>\n",
       "      <th>train</th>\n",
       "      <td>1.000000</td>\n",
       "      <td>1.000000</td>\n",
       "      <td>1.0</td>\n",
       "      <td>1.000000</td>\n",
       "    </tr>\n",
       "    <tr>\n",
       "      <th>test</th>\n",
       "      <td>0.766839</td>\n",
       "      <td>0.820513</td>\n",
       "      <td>0.8</td>\n",
       "      <td>0.810127</td>\n",
       "    </tr>\n",
       "  </tbody>\n",
       "</table>\n",
       "</div>"
      ],
      "text/plain": [
       "       accuracy_score  precision_score  recall_score  f1_score\n",
       "train        1.000000         1.000000           1.0  1.000000\n",
       "test         0.766839         0.820513           0.8  0.810127"
      ]
     },
     "metadata": {},
     "output_type": "display_data"
    },
    {
     "name": "stdout",
     "output_type": "stream",
     "text": [
      "\n",
      "#################### pipe_3の結果 ####################\n"
     ]
    },
    {
     "data": {
      "text/html": [
       "<div>\n",
       "<style scoped>\n",
       "    .dataframe tbody tr th:only-of-type {\n",
       "        vertical-align: middle;\n",
       "    }\n",
       "\n",
       "    .dataframe tbody tr th {\n",
       "        vertical-align: top;\n",
       "    }\n",
       "\n",
       "    .dataframe thead th {\n",
       "        text-align: right;\n",
       "    }\n",
       "</style>\n",
       "<table border=\"1\" class=\"dataframe\">\n",
       "  <thead>\n",
       "    <tr style=\"text-align: right;\">\n",
       "      <th></th>\n",
       "      <th>accuracy_score</th>\n",
       "      <th>precision_score</th>\n",
       "      <th>recall_score</th>\n",
       "      <th>f1_score</th>\n",
       "    </tr>\n",
       "  </thead>\n",
       "  <tbody>\n",
       "    <tr>\n",
       "      <th>train</th>\n",
       "      <td>1.000000</td>\n",
       "      <td>1.000000</td>\n",
       "      <td>1.000000</td>\n",
       "      <td>1.000000</td>\n",
       "    </tr>\n",
       "    <tr>\n",
       "      <th>test</th>\n",
       "      <td>0.715026</td>\n",
       "      <td>0.764228</td>\n",
       "      <td>0.783333</td>\n",
       "      <td>0.773663</td>\n",
       "    </tr>\n",
       "  </tbody>\n",
       "</table>\n",
       "</div>"
      ],
      "text/plain": [
       "       accuracy_score  precision_score  recall_score  f1_score\n",
       "train        1.000000         1.000000      1.000000  1.000000\n",
       "test         0.715026         0.764228      0.783333  0.773663"
      ]
     },
     "metadata": {},
     "output_type": "display_data"
    },
    {
     "name": "stdout",
     "output_type": "stream",
     "text": [
      "\n"
     ]
    }
   ],
   "source": [
    "file_path = '../data/train.csv'\n",
    "df = pd.read_csv(file_path)\n",
    "\n",
    "##3############################# パラメータの設定 ################################\n",
    "valid, model = ['fold_out_split', DecisionTreeClassifier]  # ホールドアウトとモデルを指定\n",
    "valid_args = {}  # ホールドアウト法なのでテストサイズの割合を指定\n",
    "params = {'random_state': 42}  # 選択したモデルパラメータを入力\n",
    "\n",
    "############################# 用意した関数に渡す引数 ##############################\n",
    "pipe_kwargs = {'df': df,\n",
    "        'valid': valid,\n",
    "        'model': model,\n",
    "        'valid_args': valid_args,\n",
    "        'params': params,\n",
    "        'viewer': False}\n",
    "\n",
    "######################## 用意したパイプラインをfor文で訓練 #########################\n",
    "pipe_lines = [pipe_1, pipe_2, pipe_3]  # 作ったdemo関数をリストでまとめる （）いらない\n",
    "models = []  # 訓練したモデルの格納先\n",
    "for pipe in pipe_lines:\n",
    "    print('#'*20,f'{pipe.__name__}の結果', '#'*20)  # 表示結果のラベル\n",
    "    model = pipe(**pipe_kwargs)\n",
    "    models.append(model)\n",
    "    print()"
   ]
  }
 ],
 "metadata": {
  "kernelspec": {
   "display_name": "Python 3.9.13 ('datascience')",
   "language": "python",
   "name": "python3"
  },
  "language_info": {
   "codemirror_mode": {
    "name": "ipython",
    "version": 3
   },
   "file_extension": ".py",
   "mimetype": "text/x-python",
   "name": "python",
   "nbconvert_exporter": "python",
   "pygments_lexer": "ipython3",
   "version": "3.9.13"
  },
  "orig_nbformat": 4,
  "vscode": {
   "interpreter": {
    "hash": "596b88989fc0dc1fed1e4e461c9c9f08188a37ef0bdca6efc263739311be1bbe"
   }
  }
 },
 "nbformat": 4,
 "nbformat_minor": 2
}
