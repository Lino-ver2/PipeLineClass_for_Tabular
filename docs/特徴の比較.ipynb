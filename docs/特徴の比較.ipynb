{
 "cells": [
  {
   "cell_type": "code",
   "execution_count": 3,
   "metadata": {},
   "outputs": [],
   "source": [
    "from pathlib import Path\n",
    "import sys\n",
    "\n",
    "import pandas as pd\n",
    "from sklearn.tree import DecisionTreeClassifier\n",
    "\n",
    "rank = 0 \n",
    "sys.path[0] = f'{Path().resolve().parents[rank]}' # mymoduleが上の階層にある場合rankを調整してコメント解除\n",
    "from mymodule import PipeLine, grid_serch_cv"
   ]
  },
  {
   "cell_type": "markdown",
   "metadata": {},
   "source": [
    "# 特徴量の比較について\n",
    " - ホールドアウト法による特徴の比較\n",
    " - グリッドサーチを加えた特徴量の比較"
   ]
  },
  {
   "cell_type": "markdown",
   "metadata": {},
   "source": [
    "### ホールドアウト法による特徴量の比較\n",
    "３種類の特徴量を同じモデルで比較する"
   ]
  },
  {
   "cell_type": "code",
   "execution_count": 4,
   "metadata": {},
   "outputs": [],
   "source": [
    "########################## 3種類のパイプラインを用意 ##############################\n",
    "def pipe_1(df, valid, model, valid_args, params, view=False):\n",
    "    pipe = PipeLine()\n",
    "    pipe(df)\n",
    "    model = pipe.training(valid, model, valid_args, params, view)\n",
    "    return model\n",
    "\n",
    "def pipe_2(df, valid, model, valid_args, params, view=False):\n",
    "    pipe = PipeLine()\n",
    "    pipe(df)\n",
    "    pipe.standard_scaler()\n",
    "    model = pipe.training(valid, model, valid_args ,params, view)\n",
    "    return model\n",
    "\n",
    "def pipe_3(df, valid, model, valid_args, params, view):\n",
    "    pipe = PipeLine()\n",
    "    pipe(df)\n",
    "    pipe.standard_scaler()\n",
    "    pipe.one_hot(['ChestPainType'])\n",
    "    model = pipe.training(valid, model, valid_args ,params, view)\n",
    "    return model"
   ]
  },
  {
   "cell_type": "markdown",
   "metadata": {},
   "source": [
    "### 出力結果"
   ]
  },
  {
   "cell_type": "code",
   "execution_count": 5,
   "metadata": {},
   "outputs": [
    {
     "name": "stdout",
     "output_type": "stream",
     "text": [
      "#################### pipe_1の結果 ####################\n",
      "-------------------- 評価結果 --------------------\n"
     ]
    },
    {
     "data": {
      "text/html": [
       "<div>\n",
       "<style scoped>\n",
       "    .dataframe tbody tr th:only-of-type {\n",
       "        vertical-align: middle;\n",
       "    }\n",
       "\n",
       "    .dataframe tbody tr th {\n",
       "        vertical-align: top;\n",
       "    }\n",
       "\n",
       "    .dataframe thead th {\n",
       "        text-align: right;\n",
       "    }\n",
       "</style>\n",
       "<table border=\"1\" class=\"dataframe\">\n",
       "  <thead>\n",
       "    <tr style=\"text-align: right;\">\n",
       "      <th></th>\n",
       "      <th>accuracy_score</th>\n",
       "      <th>precision_score</th>\n",
       "      <th>recall_score</th>\n",
       "      <th>f1_score</th>\n",
       "    </tr>\n",
       "  </thead>\n",
       "  <tbody>\n",
       "    <tr>\n",
       "      <th>train</th>\n",
       "      <td>1.000000</td>\n",
       "      <td>1.000000</td>\n",
       "      <td>1.000000</td>\n",
       "      <td>1.000000</td>\n",
       "    </tr>\n",
       "    <tr>\n",
       "      <th>test</th>\n",
       "      <td>0.761658</td>\n",
       "      <td>0.818966</td>\n",
       "      <td>0.791667</td>\n",
       "      <td>0.805085</td>\n",
       "    </tr>\n",
       "  </tbody>\n",
       "</table>\n",
       "</div>"
      ],
      "text/plain": [
       "       accuracy_score  precision_score  recall_score  f1_score\n",
       "train        1.000000         1.000000      1.000000  1.000000\n",
       "test         0.761658         0.818966      0.791667  0.805085"
      ]
     },
     "metadata": {},
     "output_type": "display_data"
    },
    {
     "name": "stdout",
     "output_type": "stream",
     "text": [
      "\n",
      "#################### pipe_2の結果 ####################\n",
      "-------------------- 評価結果 --------------------\n"
     ]
    },
    {
     "data": {
      "text/html": [
       "<div>\n",
       "<style scoped>\n",
       "    .dataframe tbody tr th:only-of-type {\n",
       "        vertical-align: middle;\n",
       "    }\n",
       "\n",
       "    .dataframe tbody tr th {\n",
       "        vertical-align: top;\n",
       "    }\n",
       "\n",
       "    .dataframe thead th {\n",
       "        text-align: right;\n",
       "    }\n",
       "</style>\n",
       "<table border=\"1\" class=\"dataframe\">\n",
       "  <thead>\n",
       "    <tr style=\"text-align: right;\">\n",
       "      <th></th>\n",
       "      <th>accuracy_score</th>\n",
       "      <th>precision_score</th>\n",
       "      <th>recall_score</th>\n",
       "      <th>f1_score</th>\n",
       "    </tr>\n",
       "  </thead>\n",
       "  <tbody>\n",
       "    <tr>\n",
       "      <th>train</th>\n",
       "      <td>1.000000</td>\n",
       "      <td>1.000000</td>\n",
       "      <td>1.0</td>\n",
       "      <td>1.000000</td>\n",
       "    </tr>\n",
       "    <tr>\n",
       "      <th>test</th>\n",
       "      <td>0.766839</td>\n",
       "      <td>0.820513</td>\n",
       "      <td>0.8</td>\n",
       "      <td>0.810127</td>\n",
       "    </tr>\n",
       "  </tbody>\n",
       "</table>\n",
       "</div>"
      ],
      "text/plain": [
       "       accuracy_score  precision_score  recall_score  f1_score\n",
       "train        1.000000         1.000000           1.0  1.000000\n",
       "test         0.766839         0.820513           0.8  0.810127"
      ]
     },
     "metadata": {},
     "output_type": "display_data"
    },
    {
     "name": "stdout",
     "output_type": "stream",
     "text": [
      "\n",
      "#################### pipe_3の結果 ####################\n",
      "-------------------- 評価結果 --------------------\n"
     ]
    },
    {
     "data": {
      "text/html": [
       "<div>\n",
       "<style scoped>\n",
       "    .dataframe tbody tr th:only-of-type {\n",
       "        vertical-align: middle;\n",
       "    }\n",
       "\n",
       "    .dataframe tbody tr th {\n",
       "        vertical-align: top;\n",
       "    }\n",
       "\n",
       "    .dataframe thead th {\n",
       "        text-align: right;\n",
       "    }\n",
       "</style>\n",
       "<table border=\"1\" class=\"dataframe\">\n",
       "  <thead>\n",
       "    <tr style=\"text-align: right;\">\n",
       "      <th></th>\n",
       "      <th>accuracy_score</th>\n",
       "      <th>precision_score</th>\n",
       "      <th>recall_score</th>\n",
       "      <th>f1_score</th>\n",
       "    </tr>\n",
       "  </thead>\n",
       "  <tbody>\n",
       "    <tr>\n",
       "      <th>train</th>\n",
       "      <td>1.000000</td>\n",
       "      <td>1.000000</td>\n",
       "      <td>1.000000</td>\n",
       "      <td>1.000000</td>\n",
       "    </tr>\n",
       "    <tr>\n",
       "      <th>test</th>\n",
       "      <td>0.715026</td>\n",
       "      <td>0.764228</td>\n",
       "      <td>0.783333</td>\n",
       "      <td>0.773663</td>\n",
       "    </tr>\n",
       "  </tbody>\n",
       "</table>\n",
       "</div>"
      ],
      "text/plain": [
       "       accuracy_score  precision_score  recall_score  f1_score\n",
       "train        1.000000         1.000000      1.000000  1.000000\n",
       "test         0.715026         0.764228      0.783333  0.773663"
      ]
     },
     "metadata": {},
     "output_type": "display_data"
    },
    {
     "name": "stdout",
     "output_type": "stream",
     "text": [
      "\n"
     ]
    }
   ],
   "source": [
    "file_path = '../data/train.csv'\n",
    "df = pd.read_csv(file_path)\n",
    "\n",
    "############################# 用意した関数に渡す引数 ##############################\n",
    "pipe_kwargs = {'df': df,\n",
    "        'valid': 'fold_out_split',  # ホールドアウト法\n",
    "        'model': DecisionTreeClassifier,  # sklearnのモデル\n",
    "        'valid_args': {},  # テストサイズの割合を指定\n",
    "        'params': {'random_state': 42},  # 選択したモデルパラメータを入力\n",
    "        'view': False}\n",
    "\n",
    "######################## 用意したパイプラインをfor文で訓練 #########################\n",
    "pipe_lines = [pipe_1, pipe_2, pipe_3]  # 作ったdemo関数をリストでまとめる （）いらない\n",
    "models = []  # 訓練したモデルの格納先\n",
    "for pipe in pipe_lines:\n",
    "    print('#'*20,f'{pipe.__name__}の結果', '#'*20)  # 表示結果のラベル\n",
    "    model = pipe(**pipe_kwargs)\n",
    "    models.append(model)\n",
    "    print()"
   ]
  },
  {
   "cell_type": "markdown",
   "metadata": {},
   "source": [
    "pipe_1とpipe_2は同じような特徴量。決定木だから標準化の単位を受けなから当然<br>\n",
    "pipe_3の特徴量についてはむしろ下がっている<br>\n",
    "すべてのモデルで過学習してますね"
   ]
  },
  {
   "cell_type": "markdown",
   "metadata": {},
   "source": [
    "### グリッドサーチを加えた特徴量の比較"
   ]
  },
  {
   "cell_type": "code",
   "execution_count": 9,
   "metadata": {},
   "outputs": [],
   "source": [
    "###################### グリッドサーチ用のパイプラインを用意 ########################\n",
    "def pipe_4(df, model, param_grid):\n",
    "    pipe = PipeLine()\n",
    "    pipe(df)\n",
    "    # 以下グリッドサーチ\n",
    "    pack = pipe.fold_out_split()\n",
    "    gs_model = grid_serch_cv(pack, param_grid, model)\n",
    "    return gs_model\n",
    "\n",
    "def pipe_5(df, model, param_grid):\n",
    "    pipe = PipeLine()\n",
    "    pipe(df)\n",
    "    pipe.standard_scaler()\n",
    "    # 以下グリッドサーチ\n",
    "    pack = pipe.fold_out_split()\n",
    "    gs_model = grid_serch_cv(pack, param_grid, model)\n",
    "    return gs_model\n",
    "\n",
    "def pipe_6(df, model, param_grid):\n",
    "    pipe = PipeLine()\n",
    "    pipe(df)\n",
    "    pipe.standard_scaler()\n",
    "    pipe.one_hot(['ChestPainType'])\n",
    "    # 以下グリッドサーチ\n",
    "    pack = pipe.fold_out_split()\n",
    "    gs_model = grid_serch_cv(pack, param_grid, model)\n",
    "    return gs_model"
   ]
  },
  {
   "cell_type": "markdown",
   "metadata": {},
   "source": [
    "### 出力結果"
   ]
  },
  {
   "cell_type": "code",
   "execution_count": 10,
   "metadata": {},
   "outputs": [
    {
     "name": "stdout",
     "output_type": "stream",
     "text": [
      "#################### pipe_4の結果 ####################\n",
      "-------------------- 評価結果 --------------------\n"
     ]
    },
    {
     "data": {
      "text/html": [
       "<div>\n",
       "<style scoped>\n",
       "    .dataframe tbody tr th:only-of-type {\n",
       "        vertical-align: middle;\n",
       "    }\n",
       "\n",
       "    .dataframe tbody tr th {\n",
       "        vertical-align: top;\n",
       "    }\n",
       "\n",
       "    .dataframe thead th {\n",
       "        text-align: right;\n",
       "    }\n",
       "</style>\n",
       "<table border=\"1\" class=\"dataframe\">\n",
       "  <thead>\n",
       "    <tr style=\"text-align: right;\">\n",
       "      <th></th>\n",
       "      <th>accuracy_score</th>\n",
       "      <th>precision_score</th>\n",
       "      <th>recall_score</th>\n",
       "      <th>f1_score</th>\n",
       "    </tr>\n",
       "  </thead>\n",
       "  <tbody>\n",
       "    <tr>\n",
       "      <th>train</th>\n",
       "      <td>0.826281</td>\n",
       "      <td>0.828571</td>\n",
       "      <td>0.849372</td>\n",
       "      <td>0.838843</td>\n",
       "    </tr>\n",
       "    <tr>\n",
       "      <th>test</th>\n",
       "      <td>0.797927</td>\n",
       "      <td>0.852174</td>\n",
       "      <td>0.816667</td>\n",
       "      <td>0.834043</td>\n",
       "    </tr>\n",
       "  </tbody>\n",
       "</table>\n",
       "</div>"
      ],
      "text/plain": [
       "       accuracy_score  precision_score  recall_score  f1_score\n",
       "train        0.826281         0.828571      0.849372  0.838843\n",
       "test         0.797927         0.852174      0.816667  0.834043"
      ]
     },
     "metadata": {},
     "output_type": "display_data"
    },
    {
     "name": "stdout",
     "output_type": "stream",
     "text": [
      "\n",
      "#################### pipe_5の結果 ####################\n",
      "-------------------- 評価結果 --------------------\n"
     ]
    },
    {
     "data": {
      "text/html": [
       "<div>\n",
       "<style scoped>\n",
       "    .dataframe tbody tr th:only-of-type {\n",
       "        vertical-align: middle;\n",
       "    }\n",
       "\n",
       "    .dataframe tbody tr th {\n",
       "        vertical-align: top;\n",
       "    }\n",
       "\n",
       "    .dataframe thead th {\n",
       "        text-align: right;\n",
       "    }\n",
       "</style>\n",
       "<table border=\"1\" class=\"dataframe\">\n",
       "  <thead>\n",
       "    <tr style=\"text-align: right;\">\n",
       "      <th></th>\n",
       "      <th>accuracy_score</th>\n",
       "      <th>precision_score</th>\n",
       "      <th>recall_score</th>\n",
       "      <th>f1_score</th>\n",
       "    </tr>\n",
       "  </thead>\n",
       "  <tbody>\n",
       "    <tr>\n",
       "      <th>train</th>\n",
       "      <td>0.826281</td>\n",
       "      <td>0.828571</td>\n",
       "      <td>0.849372</td>\n",
       "      <td>0.838843</td>\n",
       "    </tr>\n",
       "    <tr>\n",
       "      <th>test</th>\n",
       "      <td>0.797927</td>\n",
       "      <td>0.852174</td>\n",
       "      <td>0.816667</td>\n",
       "      <td>0.834043</td>\n",
       "    </tr>\n",
       "  </tbody>\n",
       "</table>\n",
       "</div>"
      ],
      "text/plain": [
       "       accuracy_score  precision_score  recall_score  f1_score\n",
       "train        0.826281         0.828571      0.849372  0.838843\n",
       "test         0.797927         0.852174      0.816667  0.834043"
      ]
     },
     "metadata": {},
     "output_type": "display_data"
    },
    {
     "name": "stdout",
     "output_type": "stream",
     "text": [
      "\n",
      "#################### pipe_6の結果 ####################\n",
      "-------------------- 評価結果 --------------------\n"
     ]
    },
    {
     "data": {
      "text/html": [
       "<div>\n",
       "<style scoped>\n",
       "    .dataframe tbody tr th:only-of-type {\n",
       "        vertical-align: middle;\n",
       "    }\n",
       "\n",
       "    .dataframe tbody tr th {\n",
       "        vertical-align: top;\n",
       "    }\n",
       "\n",
       "    .dataframe thead th {\n",
       "        text-align: right;\n",
       "    }\n",
       "</style>\n",
       "<table border=\"1\" class=\"dataframe\">\n",
       "  <thead>\n",
       "    <tr style=\"text-align: right;\">\n",
       "      <th></th>\n",
       "      <th>accuracy_score</th>\n",
       "      <th>precision_score</th>\n",
       "      <th>recall_score</th>\n",
       "      <th>f1_score</th>\n",
       "    </tr>\n",
       "  </thead>\n",
       "  <tbody>\n",
       "    <tr>\n",
       "      <th>train</th>\n",
       "      <td>0.859688</td>\n",
       "      <td>0.889381</td>\n",
       "      <td>0.841004</td>\n",
       "      <td>0.864516</td>\n",
       "    </tr>\n",
       "    <tr>\n",
       "      <th>test</th>\n",
       "      <td>0.740933</td>\n",
       "      <td>0.812500</td>\n",
       "      <td>0.758333</td>\n",
       "      <td>0.784483</td>\n",
       "    </tr>\n",
       "  </tbody>\n",
       "</table>\n",
       "</div>"
      ],
      "text/plain": [
       "       accuracy_score  precision_score  recall_score  f1_score\n",
       "train        0.859688         0.889381      0.841004  0.864516\n",
       "test         0.740933         0.812500      0.758333  0.784483"
      ]
     },
     "metadata": {},
     "output_type": "display_data"
    },
    {
     "name": "stdout",
     "output_type": "stream",
     "text": [
      "\n"
     ]
    }
   ],
   "source": [
    "#################### グリッドサーチの探索候補を用意 #################\n",
    "param_grid = {'max_depth':[1, 2, 3, 4, 5],\n",
    "              'min_samples_leaf':[1, 2, 3, 4, 5, 6, 7, 8, 9, 10],\n",
    "              'min_samples_split':[2, 3, 4, 5],\n",
    "              'random_state': [42]}\n",
    "\n",
    "############################# 用意した関数に渡す引数 ##############################\n",
    "pipe_kwargs = {'df': df,\n",
    "               'model': DecisionTreeClassifier,  # sklearnのモデル\n",
    "               'param_grid': param_grid}\n",
    "\n",
    "######################## 用意したパイプラインをfor文で訓練 #########################\n",
    "pipe_lines = [pipe_4, pipe_5, pipe_6]  # 作ったdemo関数をリストでまとめる （）いらない\n",
    "models = []  # 訓練したモデルの格納先\n",
    "for pipe in pipe_lines:\n",
    "    print('#'*20,f'{pipe.__name__}の結果', '#'*20)  # 表示結果のラベル\n",
    "    model = pipe(**pipe_kwargs)\n",
    "    models.append(model)\n",
    "    print()"
   ]
  },
  {
   "cell_type": "markdown",
   "metadata": {},
   "source": [
    "全体的に精度が向上している。過学習も抑えられているようで。<br>\n",
    "にしてもChestPainType単体でワンホットは精度を下げるよう<br>\n",
    "特徴量については相性があるから他の特徴量との組み合わせも考慮してみるとアリかも"
   ]
  },
  {
   "cell_type": "code",
   "execution_count": null,
   "metadata": {},
   "outputs": [],
   "source": []
  }
 ],
 "metadata": {
  "kernelspec": {
   "display_name": "Python 3.9.13 ('datascience')",
   "language": "python",
   "name": "python3"
  },
  "language_info": {
   "codemirror_mode": {
    "name": "ipython",
    "version": 3
   },
   "file_extension": ".py",
   "mimetype": "text/x-python",
   "name": "python",
   "nbconvert_exporter": "python",
   "pygments_lexer": "ipython3",
   "version": "3.9.13"
  },
  "orig_nbformat": 4,
  "vscode": {
   "interpreter": {
    "hash": "596b88989fc0dc1fed1e4e461c9c9f08188a37ef0bdca6efc263739311be1bbe"
   }
  }
 },
 "nbformat": 4,
 "nbformat_minor": 2
}
