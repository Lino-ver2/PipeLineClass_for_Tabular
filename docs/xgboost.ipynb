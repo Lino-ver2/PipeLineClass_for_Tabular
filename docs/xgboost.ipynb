{
 "cells": [
  {
   "cell_type": "code",
   "execution_count": 1,
   "metadata": {},
   "outputs": [],
   "source": [
    "from pathlib import Path\n",
    "import sys\n",
    "\n",
    "import pandas as pd\n",
    "from xgboost import XGBClassifier\n",
    "\n",
    "rank = 0 \n",
    "sys.path[0] = f'{Path().resolve().parents[rank]}' # mymoduleが上の階層にある場合rankを調整してコメント解除\n",
    "from mymodule import PipeLine, grid_search_cv\n",
    "from kayano import age_categolize, cholesterol_mean"
   ]
  },
  {
   "cell_type": "code",
   "execution_count": 2,
   "metadata": {},
   "outputs": [],
   "source": [
    "###################### グリッドサーチ用のパイプラインを用意 ########################\n",
    "def pipe_1(df, test_size, to_grid_search):\n",
    "    print(' '*15, 'ベースライン関数')\n",
    "    pipe = PipeLine()\n",
    "    pipe(df)\n",
    "    # 以下グリッドサーチ\n",
    "    pack = pipe.fold_out_split(test_size)\n",
    "    gs_model = grid_search_cv(pack, **to_grid_search)\n",
    "    return gs_model\n",
    "\n",
    "def pipe_2(df, test_size, to_grid_search):\n",
    "    print(' '*15, '年齢カテゴライズ')\n",
    "    pipe = PipeLine()\n",
    "    pipe(df)\n",
    "    pipe.df_num = age_categolize(pipe.df_num)\n",
    "    # 以下グリッドサーチ\n",
    "    pack = pipe.fold_out_split(test_size)\n",
    "    gs_model = grid_search_cv(pack, **to_grid_search)\n",
    "    return gs_model\n",
    "\n",
    "def pipe_3(df, test_size, to_grid_search):\n",
    "    print(' '*15, 'コレステロール平均補完')\n",
    "    df_cho = cholesterol_mean(df)  # HeartDiseaseを参照するため前もって処理\n",
    "    pipe = PipeLine()\n",
    "    pipe(df_cho)  # df_choを代入\n",
    "    # 以下グリッドサーチ\n",
    "    pack = pipe.fold_out_split(test_size)\n",
    "    gs_model = grid_search_cv(pack, **to_grid_search)\n",
    "    return gs_model\n",
    "\n",
    "def pipe_4(df, test_size, to_grid_search):\n",
    "    print(' '*15, '年齢補完 and コレステロール平均補完')\n",
    "    df_cho = cholesterol_mean(df)  # HeartDiseaseを参照するため前もって処理\n",
    "    pipe = PipeLine()\n",
    "    pipe(df_cho)  # df_choを代入\n",
    "    pipe.df_num = age_categolize(pipe.df_num)\n",
    "    # 以下グリッドサーチ\n",
    "    pack = pipe.fold_out_split(test_size)\n",
    "    gs_model = grid_search_cv(pack, **to_grid_search)\n",
    "    return gs_model"
   ]
  },
  {
   "cell_type": "code",
   "execution_count": 6,
   "metadata": {},
   "outputs": [
    {
     "data": {
      "text/plain": [
       "{'learning_rate': 0.3, 'max_depth': 7, 'n_estimators': 50}"
      ]
     },
     "execution_count": 6,
     "metadata": {},
     "output_type": "execute_result"
    }
   ],
   "source": [
    "models[1].best_params_"
   ]
  },
  {
   "cell_type": "code",
   "execution_count": null,
   "metadata": {},
   "outputs": [],
   "source": []
  }
 ],
 "metadata": {
  "kernelspec": {
   "display_name": "Python 3.9.13 ('datascience')",
   "language": "python",
   "name": "python3"
  },
  "language_info": {
   "codemirror_mode": {
    "name": "ipython",
    "version": 3
   },
   "file_extension": ".py",
   "mimetype": "text/x-python",
   "name": "python",
   "nbconvert_exporter": "python",
   "pygments_lexer": "ipython3",
   "version": "3.9.13"
  },
  "orig_nbformat": 4,
  "vscode": {
   "interpreter": {
    "hash": "596b88989fc0dc1fed1e4e461c9c9f08188a37ef0bdca6efc263739311be1bbe"
   }
  }
 },
 "nbformat": 4,
 "nbformat_minor": 2
}
