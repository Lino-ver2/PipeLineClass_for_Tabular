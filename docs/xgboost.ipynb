{
 "cells": [
  {
   "cell_type": "code",
   "execution_count": 8,
   "metadata": {},
   "outputs": [],
   "source": [
    "from pathlib import Path\n",
    "import sys\n",
    "\n",
    "import pandas as pd\n",
    "from xgboost import XGBClassifier\n",
    "\n",
    "rank = 0 \n",
    "#sys.path[0] = f'{Path().resolve().parents[rank]}' # mymoduleが上の階層にある場合rankを調整してコメント解除\n",
    "from mymodule import PipeLine, grid_search_cv\n",
    "from kayano import age_categolize, cholesterol_mean"
   ]
  },
  {
   "cell_type": "code",
   "execution_count": 19,
   "metadata": {},
   "outputs": [],
   "source": [
    "###################### グリッドサーチ用のパイプラインを用意 ########################\n",
    "def pipe_1(df, test_size, to_grid_search):\n",
    "    print(' '*15, 'ベースライン関数')\n",
    "    pipe = PipeLine()\n",
    "    pipe(df)\n",
    "    # 以下グリッドサーチ\n",
    "    pack = pipe.fold_out_split(test_size)\n",
    "    gs_model = grid_search_cv(pack, **to_grid_search)\n",
    "    return gs_model\n",
    "\n",
    "def pipe_2(df, test_size, to_grid_search):\n",
    "    print(' '*15, '年齢カテゴライズ')\n",
    "    pipe = PipeLine()\n",
    "    pipe(df)\n",
    "    pipe.df_num = age_categolize(pipe.df_num)\n",
    "    # 以下グリッドサーチ\n",
    "    pack = pipe.fold_out_split(test_size)\n",
    "    gs_model = grid_search_cv(pack, **to_grid_search)\n",
    "    return gs_model\n",
    "\n",
    "def pipe_3(df, test_size, to_grid_search):\n",
    "    print(' '*15, 'コレステロール平均補完')\n",
    "    df_cho = cholesterol_mean(df)  # HeartDiseaseを参照するため前もって処理\n",
    "    pipe = PipeLine()\n",
    "    pipe(df_cho)  # df_choを代入\n",
    "    # 以下グリッドサーチ\n",
    "    pack = pipe.fold_out_split(test_size)\n",
    "    gs_model = grid_search_cv(pack, **to_grid_search)\n",
    "    return gs_model\n",
    "\n",
    "def pipe_4(df, test_size, to_grid_search):\n",
    "    print(' '*15, '年齢補完 and コレステロール平均補完')\n",
    "    df_cho = cholesterol_mean(df)  # HeartDiseaseを参照するため前もって処理\n",
    "    pipe = PipeLine()\n",
    "    pipe(df_cho)  # df_choを代入\n",
    "    pipe.df_num = age_categolize(pipe.df_num)\n",
    "    # 以下グリッドサーチ\n",
    "    pack = pipe.fold_out_split(test_size)\n",
    "    gs_model = grid_search_cv(pack, **to_grid_search)\n",
    "    return gs_model"
   ]
  },
  {
   "cell_type": "code",
   "execution_count": 20,
   "metadata": {},
   "outputs": [
    {
     "name": "stdout",
     "output_type": "stream",
     "text": [
      "#################### pipe_1の結果 ####################\n",
      "                ベースライン関数\n",
      "-------------------- 評価結果 --------------------\n"
     ]
    },
    {
     "data": {
      "text/html": [
       "<div>\n",
       "<style scoped>\n",
       "    .dataframe tbody tr th:only-of-type {\n",
       "        vertical-align: middle;\n",
       "    }\n",
       "\n",
       "    .dataframe tbody tr th {\n",
       "        vertical-align: top;\n",
       "    }\n",
       "\n",
       "    .dataframe thead th {\n",
       "        text-align: right;\n",
       "    }\n",
       "</style>\n",
       "<table border=\"1\" class=\"dataframe\">\n",
       "  <thead>\n",
       "    <tr style=\"text-align: right;\">\n",
       "      <th></th>\n",
       "      <th>accuracy_score</th>\n",
       "      <th>precision_score</th>\n",
       "      <th>recall_score</th>\n",
       "      <th>f1_score</th>\n",
       "    </tr>\n",
       "  </thead>\n",
       "  <tbody>\n",
       "    <tr>\n",
       "      <th>train</th>\n",
       "      <td>0.980507</td>\n",
       "      <td>0.978495</td>\n",
       "      <td>0.985560</td>\n",
       "      <td>0.982014</td>\n",
       "    </tr>\n",
       "    <tr>\n",
       "      <th>test</th>\n",
       "      <td>0.813953</td>\n",
       "      <td>0.862500</td>\n",
       "      <td>0.841463</td>\n",
       "      <td>0.851852</td>\n",
       "    </tr>\n",
       "  </tbody>\n",
       "</table>\n",
       "</div>"
      ],
      "text/plain": [
       "       accuracy_score  precision_score  recall_score  f1_score\n",
       "train        0.980507         0.978495      0.985560  0.982014\n",
       "test         0.813953         0.862500      0.841463  0.851852"
      ]
     },
     "metadata": {},
     "output_type": "display_data"
    },
    {
     "name": "stdout",
     "output_type": "stream",
     "text": [
      "\n",
      "#################### pipe_2の結果 ####################\n",
      "                年齢カテゴライズ\n",
      "-------------------- 評価結果 --------------------\n"
     ]
    },
    {
     "data": {
      "text/html": [
       "<div>\n",
       "<style scoped>\n",
       "    .dataframe tbody tr th:only-of-type {\n",
       "        vertical-align: middle;\n",
       "    }\n",
       "\n",
       "    .dataframe tbody tr th {\n",
       "        vertical-align: top;\n",
       "    }\n",
       "\n",
       "    .dataframe thead th {\n",
       "        text-align: right;\n",
       "    }\n",
       "</style>\n",
       "<table border=\"1\" class=\"dataframe\">\n",
       "  <thead>\n",
       "    <tr style=\"text-align: right;\">\n",
       "      <th></th>\n",
       "      <th>accuracy_score</th>\n",
       "      <th>precision_score</th>\n",
       "      <th>recall_score</th>\n",
       "      <th>f1_score</th>\n",
       "    </tr>\n",
       "  </thead>\n",
       "  <tbody>\n",
       "    <tr>\n",
       "      <th>train</th>\n",
       "      <td>0.914230</td>\n",
       "      <td>0.933086</td>\n",
       "      <td>0.906137</td>\n",
       "      <td>0.919414</td>\n",
       "    </tr>\n",
       "    <tr>\n",
       "      <th>test</th>\n",
       "      <td>0.829457</td>\n",
       "      <td>0.916667</td>\n",
       "      <td>0.804878</td>\n",
       "      <td>0.857143</td>\n",
       "    </tr>\n",
       "  </tbody>\n",
       "</table>\n",
       "</div>"
      ],
      "text/plain": [
       "       accuracy_score  precision_score  recall_score  f1_score\n",
       "train        0.914230         0.933086      0.906137  0.919414\n",
       "test         0.829457         0.916667      0.804878  0.857143"
      ]
     },
     "metadata": {},
     "output_type": "display_data"
    },
    {
     "name": "stdout",
     "output_type": "stream",
     "text": [
      "\n",
      "#################### pipe_3の結果 ####################\n",
      "                コレステロール平均補完\n",
      "-------------------- 評価結果 --------------------\n"
     ]
    },
    {
     "data": {
      "text/html": [
       "<div>\n",
       "<style scoped>\n",
       "    .dataframe tbody tr th:only-of-type {\n",
       "        vertical-align: middle;\n",
       "    }\n",
       "\n",
       "    .dataframe tbody tr th {\n",
       "        vertical-align: top;\n",
       "    }\n",
       "\n",
       "    .dataframe thead th {\n",
       "        text-align: right;\n",
       "    }\n",
       "</style>\n",
       "<table border=\"1\" class=\"dataframe\">\n",
       "  <thead>\n",
       "    <tr style=\"text-align: right;\">\n",
       "      <th></th>\n",
       "      <th>accuracy_score</th>\n",
       "      <th>precision_score</th>\n",
       "      <th>recall_score</th>\n",
       "      <th>f1_score</th>\n",
       "    </tr>\n",
       "  </thead>\n",
       "  <tbody>\n",
       "    <tr>\n",
       "      <th>train</th>\n",
       "      <td>0.933723</td>\n",
       "      <td>0.961977</td>\n",
       "      <td>0.913357</td>\n",
       "      <td>0.937037</td>\n",
       "    </tr>\n",
       "    <tr>\n",
       "      <th>test</th>\n",
       "      <td>0.852713</td>\n",
       "      <td>0.898734</td>\n",
       "      <td>0.865854</td>\n",
       "      <td>0.881988</td>\n",
       "    </tr>\n",
       "  </tbody>\n",
       "</table>\n",
       "</div>"
      ],
      "text/plain": [
       "       accuracy_score  precision_score  recall_score  f1_score\n",
       "train        0.933723         0.961977      0.913357  0.937037\n",
       "test         0.852713         0.898734      0.865854  0.881988"
      ]
     },
     "metadata": {},
     "output_type": "display_data"
    },
    {
     "name": "stdout",
     "output_type": "stream",
     "text": [
      "\n",
      "#################### pipe_4の結果 ####################\n",
      "                年齢補完 and コレステロール平均補完\n",
      "-------------------- 評価結果 --------------------\n"
     ]
    },
    {
     "data": {
      "text/html": [
       "<div>\n",
       "<style scoped>\n",
       "    .dataframe tbody tr th:only-of-type {\n",
       "        vertical-align: middle;\n",
       "    }\n",
       "\n",
       "    .dataframe tbody tr th {\n",
       "        vertical-align: top;\n",
       "    }\n",
       "\n",
       "    .dataframe thead th {\n",
       "        text-align: right;\n",
       "    }\n",
       "</style>\n",
       "<table border=\"1\" class=\"dataframe\">\n",
       "  <thead>\n",
       "    <tr style=\"text-align: right;\">\n",
       "      <th></th>\n",
       "      <th>accuracy_score</th>\n",
       "      <th>precision_score</th>\n",
       "      <th>recall_score</th>\n",
       "      <th>f1_score</th>\n",
       "    </tr>\n",
       "  </thead>\n",
       "  <tbody>\n",
       "    <tr>\n",
       "      <th>train</th>\n",
       "      <td>0.964912</td>\n",
       "      <td>0.977860</td>\n",
       "      <td>0.956679</td>\n",
       "      <td>0.967153</td>\n",
       "    </tr>\n",
       "    <tr>\n",
       "      <th>test</th>\n",
       "      <td>0.868217</td>\n",
       "      <td>0.933333</td>\n",
       "      <td>0.853659</td>\n",
       "      <td>0.891720</td>\n",
       "    </tr>\n",
       "  </tbody>\n",
       "</table>\n",
       "</div>"
      ],
      "text/plain": [
       "       accuracy_score  precision_score  recall_score  f1_score\n",
       "train        0.964912         0.977860      0.956679  0.967153\n",
       "test         0.868217         0.933333      0.853659  0.891720"
      ]
     },
     "metadata": {},
     "output_type": "display_data"
    },
    {
     "name": "stdout",
     "output_type": "stream",
     "text": [
      "\n"
     ]
    }
   ],
   "source": [
    "df = pd.read_csv('../data/train.csv')\n",
    "#################### グリッドサーチの探索候補を用意 #################\n",
    "tree_grid = {'max_depth':[5,  7, 9, 15],\n",
    "              'learning_rate': [0.1, 0.3],\n",
    "              'n_estimators': [50, 100],\n",
    "            }\n",
    "\n",
    "############################# 用意した関数に渡す引数 ##############################\n",
    "to_grid_search = {'model': XGBClassifier,\n",
    "                  'param_grid': tree_grid,\n",
    "                  'model_arg': {'random_state': 42, 'early_stopping_rounds': 10}\n",
    "                  }\n",
    "\n",
    "pipe_kwargs = {'df': df,\n",
    "               'test_size': 0.2,\n",
    "               'to_grid_search': to_grid_search}\n",
    "\n",
    "######################## 用意したパイプラインをfor文で訓練 #########################\n",
    "pipe_lines = [pipe_1, pipe_2, pipe_3, pipe_4]  # 作ったdemo関数をリストでまとめる （）いらない\n",
    "models = []  # 訓練したモデルの格納先\n",
    "for pipe in pipe_lines:\n",
    "    print('#'*20,f'{pipe.__name__}の結果', '#'*20)  # 表示結果のラベル\n",
    "    model = pipe(**pipe_kwargs)\n",
    "    models.append(model)\n",
    "    print()\n"
   ]
  },
  {
   "cell_type": "code",
   "execution_count": 22,
   "metadata": {},
   "outputs": [
    {
     "data": {
      "text/plain": [
       "{'learning_rate': 0.1, 'max_depth': 7, 'n_estimators': 50}"
      ]
     },
     "execution_count": 22,
     "metadata": {},
     "output_type": "execute_result"
    }
   ],
   "source": [
    "models[3].best_params_"
   ]
  },
  {
   "cell_type": "code",
   "execution_count": null,
   "metadata": {},
   "outputs": [],
   "source": []
  }
 ],
 "metadata": {
  "kernelspec": {
   "display_name": "Python 3.9.13 ('datascience')",
   "language": "python",
   "name": "python3"
  },
  "language_info": {
   "codemirror_mode": {
    "name": "ipython",
    "version": 3
   },
   "file_extension": ".py",
   "mimetype": "text/x-python",
   "name": "python",
   "nbconvert_exporter": "python",
   "pygments_lexer": "ipython3",
   "version": "3.9.13"
  },
  "orig_nbformat": 4,
  "vscode": {
   "interpreter": {
    "hash": "596b88989fc0dc1fed1e4e461c9c9f08188a37ef0bdca6efc263739311be1bbe"
   }
  }
 },
 "nbformat": 4,
 "nbformat_minor": 2
}
