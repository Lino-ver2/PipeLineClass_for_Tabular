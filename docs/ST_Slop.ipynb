{
 "cells": [
  {
   "cell_type": "code",
   "execution_count": 1,
   "metadata": {},
   "outputs": [],
   "source": [
    "from pathlib import Path\n",
    "import sys\n",
    "\n",
    "import pandas as pd\n",
    "from xgboost import XGBClassifier\n",
    "\n",
    "rank = 0 \n",
    "#sys.path[0] = f'{Path().resolve().parents[rank]}' # mymoduleが上の階層にある場合rankを調整してコメント解除\n",
    "from mymodule import PipeLine, grid_search_cv\n",
    "from kayano import age_categolize, stSlope_categolize, cholesterol_mean"
   ]
  },
  {
   "cell_type": "code",
   "execution_count": 2,
   "metadata": {},
   "outputs": [
    {
     "data": {
      "text/html": [
       "<div>\n",
       "<style scoped>\n",
       "    .dataframe tbody tr th:only-of-type {\n",
       "        vertical-align: middle;\n",
       "    }\n",
       "\n",
       "    .dataframe tbody tr th {\n",
       "        vertical-align: top;\n",
       "    }\n",
       "\n",
       "    .dataframe thead th {\n",
       "        text-align: right;\n",
       "    }\n",
       "</style>\n",
       "<table border=\"1\" class=\"dataframe\">\n",
       "  <thead>\n",
       "    <tr style=\"text-align: right;\">\n",
       "      <th></th>\n",
       "      <th>Age</th>\n",
       "      <th>Sex</th>\n",
       "      <th>ChestPainType</th>\n",
       "      <th>RestingBP</th>\n",
       "      <th>Cholesterol</th>\n",
       "      <th>FastingBS</th>\n",
       "      <th>RestingECG</th>\n",
       "      <th>MaxHR</th>\n",
       "      <th>ExerciseAngina</th>\n",
       "      <th>Oldpeak</th>\n",
       "      <th>ST_Slope</th>\n",
       "      <th>HeartDisease</th>\n",
       "    </tr>\n",
       "  </thead>\n",
       "  <tbody>\n",
       "    <tr>\n",
       "      <th>0</th>\n",
       "      <td>56</td>\n",
       "      <td>1</td>\n",
       "      <td>ASY</td>\n",
       "      <td>155</td>\n",
       "      <td>342</td>\n",
       "      <td>1</td>\n",
       "      <td>Normal</td>\n",
       "      <td>150</td>\n",
       "      <td>1</td>\n",
       "      <td>3.0</td>\n",
       "      <td>Flat</td>\n",
       "      <td>1</td>\n",
       "    </tr>\n",
       "    <tr>\n",
       "      <th>1</th>\n",
       "      <td>55</td>\n",
       "      <td>0</td>\n",
       "      <td>ATA</td>\n",
       "      <td>130</td>\n",
       "      <td>394</td>\n",
       "      <td>0</td>\n",
       "      <td>LVH</td>\n",
       "      <td>150</td>\n",
       "      <td>0</td>\n",
       "      <td>0.0</td>\n",
       "      <td>Up</td>\n",
       "      <td>0</td>\n",
       "    </tr>\n",
       "    <tr>\n",
       "      <th>2</th>\n",
       "      <td>47</td>\n",
       "      <td>1</td>\n",
       "      <td>NAP</td>\n",
       "      <td>110</td>\n",
       "      <td>0</td>\n",
       "      <td>1</td>\n",
       "      <td>Normal</td>\n",
       "      <td>120</td>\n",
       "      <td>1</td>\n",
       "      <td>0.0</td>\n",
       "      <td>Flat</td>\n",
       "      <td>1</td>\n",
       "    </tr>\n",
       "    <tr>\n",
       "      <th>3</th>\n",
       "      <td>34</td>\n",
       "      <td>1</td>\n",
       "      <td>ASY</td>\n",
       "      <td>115</td>\n",
       "      <td>0</td>\n",
       "      <td>1</td>\n",
       "      <td>Normal</td>\n",
       "      <td>154</td>\n",
       "      <td>0</td>\n",
       "      <td>0.2</td>\n",
       "      <td>Up</td>\n",
       "      <td>1</td>\n",
       "    </tr>\n",
       "    <tr>\n",
       "      <th>4</th>\n",
       "      <td>54</td>\n",
       "      <td>0</td>\n",
       "      <td>NAP</td>\n",
       "      <td>160</td>\n",
       "      <td>201</td>\n",
       "      <td>0</td>\n",
       "      <td>Normal</td>\n",
       "      <td>163</td>\n",
       "      <td>0</td>\n",
       "      <td>0.0</td>\n",
       "      <td>Up</td>\n",
       "      <td>0</td>\n",
       "    </tr>\n",
       "  </tbody>\n",
       "</table>\n",
       "</div>"
      ],
      "text/plain": [
       "   Age  Sex ChestPainType  RestingBP  Cholesterol  FastingBS RestingECG  \\\n",
       "0   56    1           ASY        155          342          1     Normal   \n",
       "1   55    0           ATA        130          394          0        LVH   \n",
       "2   47    1           NAP        110            0          1     Normal   \n",
       "3   34    1           ASY        115            0          1     Normal   \n",
       "4   54    0           NAP        160          201          0     Normal   \n",
       "\n",
       "   MaxHR  ExerciseAngina  Oldpeak ST_Slope  HeartDisease  \n",
       "0    150               1      3.0     Flat             1  \n",
       "1    150               0      0.0       Up             0  \n",
       "2    120               1      0.0     Flat             1  \n",
       "3    154               0      0.2       Up             1  \n",
       "4    163               0      0.0       Up             0  "
      ]
     },
     "execution_count": 2,
     "metadata": {},
     "output_type": "execute_result"
    }
   ],
   "source": [
    "df = pd.read_csv('./data/train.csv')\n",
    "df.head()"
   ]
  },
  {
   "cell_type": "markdown",
   "metadata": {},
   "source": [
    "### 河合さんの関数の挙動の方は問題にないなさそう"
   ]
  },
  {
   "cell_type": "code",
   "execution_count": 3,
   "metadata": {},
   "outputs": [
    {
     "data": {
      "text/plain": [
       "-1    49\n",
       "Name: ST_Slope, dtype: int64"
      ]
     },
     "execution_count": 3,
     "metadata": {},
     "output_type": "execute_result"
    }
   ],
   "source": [
    "df_st = stSlope_categolize(df)\n",
    "df_st[df['ST_Slope']=='Down']['ST_Slope'].value_counts()"
   ]
  },
  {
   "cell_type": "code",
   "execution_count": 4,
   "metadata": {},
   "outputs": [
    {
     "data": {
      "text/plain": [
       "0    316\n",
       "Name: ST_Slope, dtype: int64"
      ]
     },
     "execution_count": 4,
     "metadata": {},
     "output_type": "execute_result"
    }
   ],
   "source": [
    "df_st[df['ST_Slope']=='Flat']['ST_Slope'].value_counts()"
   ]
  },
  {
   "cell_type": "code",
   "execution_count": 5,
   "metadata": {},
   "outputs": [
    {
     "data": {
      "text/plain": [
       "1    277\n",
       "Name: ST_Slope, dtype: int64"
      ]
     },
     "execution_count": 5,
     "metadata": {},
     "output_type": "execute_result"
    }
   ],
   "source": [
    "df_st[df['ST_Slope']=='Up']['ST_Slope'].value_counts()"
   ]
  },
  {
   "cell_type": "markdown",
   "metadata": {},
   "source": [
    "### パイプライン"
   ]
  },
  {
   "cell_type": "code",
   "execution_count": 12,
   "metadata": {},
   "outputs": [],
   "source": [
    "def pipe_1(df, test_size, to_grid_search):\n",
    "    print('ベースライン'.center(50))\n",
    "    pipe = PipeLine()\n",
    "    pipe(df)\n",
    "    pack = pipe.fold_out_split(test_size)\n",
    "    gs_model = grid_search_cv(pack, **to_grid_search)\n",
    "    return gs_model\n",
    "\n",
    "def pipe_2(df, test_size, to_grid_search):\n",
    "    print('ST_Slopカテゴライズ'.center(50))\n",
    "    pipe = PipeLine()\n",
    "    pipe(df)\n",
    "    pipe.df_cat = stSlope_categolize(pipe.df_cat)  # ST_Slopeをカテゴライズ\n",
    "    slop = pipe.df_num.copy()\n",
    "    slop['ST_Slope'] = pipe.df_cat['ST_Slope']\n",
    "    pipe.df_num = slop\n",
    "    #display(pipe.df_num)\n",
    "    pack = pipe.fold_out_split(test_size)\n",
    "    gs_model = grid_search_cv(pack, **to_grid_search)\n",
    "    return gs_model\n",
    "\n",
    "def pipe_3(df, test_size, to_grid_search):\n",
    "    print('ワンホットとST_Slopカテゴライズ'.center(50))\n",
    "    pipe = PipeLine()\n",
    "    pipe(df)\n",
    "    pipe.one_hot(pipe.df_cat.columns)\n",
    "    pipe.df_num = stSlope_categolize(pipe.df_num)  # ST_Slopeをカテゴライズ\n",
    "    #display(pipe.df_num)\n",
    "    pack = pipe.fold_out_split(test_size)\n",
    "    gs_model = grid_search_cv(pack, **to_grid_search)\n",
    "    return gs_model\n",
    "\n",
    "def pipe_4(df, test_size, to_grid_search):\n",
    "    print('Ageカテゴライズ'.center(50))\n",
    "    pipe = PipeLine()\n",
    "    pipe(df)\n",
    "    pipe.df_num = age_categolize(pipe.df_num)\n",
    "    pack = pipe.fold_out_split(test_size)\n",
    "    gs_model = grid_search_cv(pack, **to_grid_search)\n",
    "    return gs_model\n",
    "\n",
    "def pipe_5(df, test_size, to_grid_search):\n",
    "    print('AgeカテゴライズとST_Slopカテゴライズ'.center(50))\n",
    "    pipe = PipeLine()\n",
    "    pipe(df)\n",
    "    pipe.df_cat = stSlope_categolize(pipe.df_cat)  # ST_Slopeをカテゴライズ\n",
    "    slop = pipe.df_num.copy()\n",
    "    slop['ST_Slope'] = pipe.df_cat['ST_Slope']\n",
    "    pipe.df_num = slop\n",
    "    pipe.df_num = age_categolize(pipe.df_num)\n",
    "    #display(pipe.df_num)\n",
    "    pack = pipe.fold_out_split(test_size)\n",
    "    gs_model = grid_search_cv(pack, **to_grid_search)\n",
    "    return gs_model\n",
    "\n",
    "def pipe_6(df, test_size, to_grid_search):\n",
    "    print('コレステロールの補完'.center(50))\n",
    "    pipe = PipeLine()\n",
    "    pipe(df)\n",
    "    pipe.df_num = cholesterol_mean(pipe.df_num)\n",
    "    #display(pipe.df_num)\n",
    "    pack = pipe.fold_out_split(test_size)\n",
    "    gs_model = grid_search_cv(pack, **to_grid_search)\n",
    "    return gs_model\n",
    "\n",
    "def pipe_7(df, test_size, to_grid_search):\n",
    "    print('コレステロールの補完と年齢カテゴライズ'.center(50))\n",
    "    pipe = PipeLine()\n",
    "    pipe(df)\n",
    "    pipe.df_num = cholesterol_mean(pipe.df_num)\n",
    "    pipe.df_num = age_categolize(pipe.df_num)\n",
    "    #display(pipe.df_num)\n",
    "    pack = pipe.fold_out_split(test_size)\n",
    "    gs_model = grid_search_cv(pack, **to_grid_search)\n",
    "    return gs_model\n",
    "\n",
    "def pipe_8(df, test_size, to_grid_search):\n",
    "    print('コレステロールの補完と年齢カテゴライズとSlopカテゴライズ'.center(50))\n",
    "    pipe = PipeLine()\n",
    "    pipe(df)\n",
    "    pipe.df_num = cholesterol_mean(pipe.df_num)\n",
    "    pipe.df_num = age_categolize(pipe.df_num)\n",
    "    pipe.df_cat = stSlope_categolize(pipe.df_cat)  # ST_Slopeをカテゴライズ\n",
    "    slop = pipe.df_num.copy()\n",
    "    slop['ST_Slope'] = pipe.df_cat['ST_Slope']\n",
    "    pipe.df_num = slop\n",
    "    #display(pipe.df_num)\n",
    "    pack = pipe.fold_out_split(test_size)\n",
    "    gs_model = grid_search_cv(pack, **to_grid_search)\n",
    "    return gs_model\n"
   ]
  },
  {
   "cell_type": "markdown",
   "metadata": {},
   "source": [
    "### トレーニング"
   ]
  },
  {
   "cell_type": "code",
   "execution_count": 17,
   "metadata": {},
   "outputs": [
    {
     "name": "stdout",
     "output_type": "stream",
     "text": [
      "#################### pipe_1の結果 ####################\n",
      "                      ベースライン                      \n",
      "-------------------- 評価結果 --------------------\n"
     ]
    },
    {
     "data": {
      "text/html": [
       "<div>\n",
       "<style scoped>\n",
       "    .dataframe tbody tr th:only-of-type {\n",
       "        vertical-align: middle;\n",
       "    }\n",
       "\n",
       "    .dataframe tbody tr th {\n",
       "        vertical-align: top;\n",
       "    }\n",
       "\n",
       "    .dataframe thead th {\n",
       "        text-align: right;\n",
       "    }\n",
       "</style>\n",
       "<table border=\"1\" class=\"dataframe\">\n",
       "  <thead>\n",
       "    <tr style=\"text-align: right;\">\n",
       "      <th></th>\n",
       "      <th>accuracy_score</th>\n",
       "      <th>precision_score</th>\n",
       "      <th>recall_score</th>\n",
       "      <th>f1_score</th>\n",
       "    </tr>\n",
       "  </thead>\n",
       "  <tbody>\n",
       "    <tr>\n",
       "      <th>train</th>\n",
       "      <td>0.861598</td>\n",
       "      <td>0.905512</td>\n",
       "      <td>0.830325</td>\n",
       "      <td>0.866290</td>\n",
       "    </tr>\n",
       "    <tr>\n",
       "      <th>test</th>\n",
       "      <td>0.837209</td>\n",
       "      <td>0.917808</td>\n",
       "      <td>0.817073</td>\n",
       "      <td>0.864516</td>\n",
       "    </tr>\n",
       "  </tbody>\n",
       "</table>\n",
       "</div>"
      ],
      "text/plain": [
       "       accuracy_score  precision_score  recall_score  f1_score\n",
       "train        0.861598         0.905512      0.830325  0.866290\n",
       "test         0.837209         0.917808      0.817073  0.864516"
      ]
     },
     "metadata": {},
     "output_type": "display_data"
    },
    {
     "name": "stdout",
     "output_type": "stream",
     "text": [
      "\n",
      "#################### pipe_2の結果 ####################\n",
      "                  ST_Slopカテゴライズ                   \n",
      "-------------------- 評価結果 --------------------\n"
     ]
    },
    {
     "data": {
      "text/html": [
       "<div>\n",
       "<style scoped>\n",
       "    .dataframe tbody tr th:only-of-type {\n",
       "        vertical-align: middle;\n",
       "    }\n",
       "\n",
       "    .dataframe tbody tr th {\n",
       "        vertical-align: top;\n",
       "    }\n",
       "\n",
       "    .dataframe thead th {\n",
       "        text-align: right;\n",
       "    }\n",
       "</style>\n",
       "<table border=\"1\" class=\"dataframe\">\n",
       "  <thead>\n",
       "    <tr style=\"text-align: right;\">\n",
       "      <th></th>\n",
       "      <th>accuracy_score</th>\n",
       "      <th>precision_score</th>\n",
       "      <th>recall_score</th>\n",
       "      <th>f1_score</th>\n",
       "    </tr>\n",
       "  </thead>\n",
       "  <tbody>\n",
       "    <tr>\n",
       "      <th>train</th>\n",
       "      <td>0.916179</td>\n",
       "      <td>0.917857</td>\n",
       "      <td>0.927798</td>\n",
       "      <td>0.922801</td>\n",
       "    </tr>\n",
       "    <tr>\n",
       "      <th>test</th>\n",
       "      <td>0.875969</td>\n",
       "      <td>0.923077</td>\n",
       "      <td>0.878049</td>\n",
       "      <td>0.900000</td>\n",
       "    </tr>\n",
       "  </tbody>\n",
       "</table>\n",
       "</div>"
      ],
      "text/plain": [
       "       accuracy_score  precision_score  recall_score  f1_score\n",
       "train        0.916179         0.917857      0.927798  0.922801\n",
       "test         0.875969         0.923077      0.878049  0.900000"
      ]
     },
     "metadata": {},
     "output_type": "display_data"
    },
    {
     "name": "stdout",
     "output_type": "stream",
     "text": [
      "\n",
      "#################### pipe_3の結果 ####################\n",
      "               ワンホットとST_Slopカテゴライズ                \n",
      "-------------------- 評価結果 --------------------\n"
     ]
    },
    {
     "data": {
      "text/html": [
       "<div>\n",
       "<style scoped>\n",
       "    .dataframe tbody tr th:only-of-type {\n",
       "        vertical-align: middle;\n",
       "    }\n",
       "\n",
       "    .dataframe tbody tr th {\n",
       "        vertical-align: top;\n",
       "    }\n",
       "\n",
       "    .dataframe thead th {\n",
       "        text-align: right;\n",
       "    }\n",
       "</style>\n",
       "<table border=\"1\" class=\"dataframe\">\n",
       "  <thead>\n",
       "    <tr style=\"text-align: right;\">\n",
       "      <th></th>\n",
       "      <th>accuracy_score</th>\n",
       "      <th>precision_score</th>\n",
       "      <th>recall_score</th>\n",
       "      <th>f1_score</th>\n",
       "    </tr>\n",
       "  </thead>\n",
       "  <tbody>\n",
       "    <tr>\n",
       "      <th>train</th>\n",
       "      <td>0.918129</td>\n",
       "      <td>0.918149</td>\n",
       "      <td>0.931408</td>\n",
       "      <td>0.924731</td>\n",
       "    </tr>\n",
       "    <tr>\n",
       "      <th>test</th>\n",
       "      <td>0.852713</td>\n",
       "      <td>0.898734</td>\n",
       "      <td>0.865854</td>\n",
       "      <td>0.881988</td>\n",
       "    </tr>\n",
       "  </tbody>\n",
       "</table>\n",
       "</div>"
      ],
      "text/plain": [
       "       accuracy_score  precision_score  recall_score  f1_score\n",
       "train        0.918129         0.918149      0.931408  0.924731\n",
       "test         0.852713         0.898734      0.865854  0.881988"
      ]
     },
     "metadata": {},
     "output_type": "display_data"
    },
    {
     "name": "stdout",
     "output_type": "stream",
     "text": [
      "\n",
      "#################### pipe_4の結果 ####################\n",
      "                    Ageカテゴライズ                     \n",
      "-------------------- 評価結果 --------------------\n"
     ]
    },
    {
     "data": {
      "text/html": [
       "<div>\n",
       "<style scoped>\n",
       "    .dataframe tbody tr th:only-of-type {\n",
       "        vertical-align: middle;\n",
       "    }\n",
       "\n",
       "    .dataframe tbody tr th {\n",
       "        vertical-align: top;\n",
       "    }\n",
       "\n",
       "    .dataframe thead th {\n",
       "        text-align: right;\n",
       "    }\n",
       "</style>\n",
       "<table border=\"1\" class=\"dataframe\">\n",
       "  <thead>\n",
       "    <tr style=\"text-align: right;\">\n",
       "      <th></th>\n",
       "      <th>accuracy_score</th>\n",
       "      <th>precision_score</th>\n",
       "      <th>recall_score</th>\n",
       "      <th>f1_score</th>\n",
       "    </tr>\n",
       "  </thead>\n",
       "  <tbody>\n",
       "    <tr>\n",
       "      <th>train</th>\n",
       "      <td>0.867446</td>\n",
       "      <td>0.916335</td>\n",
       "      <td>0.830325</td>\n",
       "      <td>0.871212</td>\n",
       "    </tr>\n",
       "    <tr>\n",
       "      <th>test</th>\n",
       "      <td>0.798450</td>\n",
       "      <td>0.900000</td>\n",
       "      <td>0.768293</td>\n",
       "      <td>0.828947</td>\n",
       "    </tr>\n",
       "  </tbody>\n",
       "</table>\n",
       "</div>"
      ],
      "text/plain": [
       "       accuracy_score  precision_score  recall_score  f1_score\n",
       "train        0.867446         0.916335      0.830325  0.871212\n",
       "test         0.798450         0.900000      0.768293  0.828947"
      ]
     },
     "metadata": {},
     "output_type": "display_data"
    },
    {
     "name": "stdout",
     "output_type": "stream",
     "text": [
      "\n",
      "#################### pipe_5の結果 ####################\n",
      "             AgeカテゴライズとST_Slopカテゴライズ              \n",
      "-------------------- 評価結果 --------------------\n"
     ]
    },
    {
     "data": {
      "text/html": [
       "<div>\n",
       "<style scoped>\n",
       "    .dataframe tbody tr th:only-of-type {\n",
       "        vertical-align: middle;\n",
       "    }\n",
       "\n",
       "    .dataframe tbody tr th {\n",
       "        vertical-align: top;\n",
       "    }\n",
       "\n",
       "    .dataframe thead th {\n",
       "        text-align: right;\n",
       "    }\n",
       "</style>\n",
       "<table border=\"1\" class=\"dataframe\">\n",
       "  <thead>\n",
       "    <tr style=\"text-align: right;\">\n",
       "      <th></th>\n",
       "      <th>accuracy_score</th>\n",
       "      <th>precision_score</th>\n",
       "      <th>recall_score</th>\n",
       "      <th>f1_score</th>\n",
       "    </tr>\n",
       "  </thead>\n",
       "  <tbody>\n",
       "    <tr>\n",
       "      <th>train</th>\n",
       "      <td>0.920078</td>\n",
       "      <td>0.921429</td>\n",
       "      <td>0.931408</td>\n",
       "      <td>0.926391</td>\n",
       "    </tr>\n",
       "    <tr>\n",
       "      <th>test</th>\n",
       "      <td>0.875969</td>\n",
       "      <td>0.923077</td>\n",
       "      <td>0.878049</td>\n",
       "      <td>0.900000</td>\n",
       "    </tr>\n",
       "  </tbody>\n",
       "</table>\n",
       "</div>"
      ],
      "text/plain": [
       "       accuracy_score  precision_score  recall_score  f1_score\n",
       "train        0.920078         0.921429      0.931408  0.926391\n",
       "test         0.875969         0.923077      0.878049  0.900000"
      ]
     },
     "metadata": {},
     "output_type": "display_data"
    },
    {
     "name": "stdout",
     "output_type": "stream",
     "text": [
      "\n",
      "#################### pipe_6の結果 ####################\n",
      "                    コレステロールの補完                    \n",
      "-------------------- 評価結果 --------------------\n"
     ]
    },
    {
     "data": {
      "text/html": [
       "<div>\n",
       "<style scoped>\n",
       "    .dataframe tbody tr th:only-of-type {\n",
       "        vertical-align: middle;\n",
       "    }\n",
       "\n",
       "    .dataframe tbody tr th {\n",
       "        vertical-align: top;\n",
       "    }\n",
       "\n",
       "    .dataframe thead th {\n",
       "        text-align: right;\n",
       "    }\n",
       "</style>\n",
       "<table border=\"1\" class=\"dataframe\">\n",
       "  <thead>\n",
       "    <tr style=\"text-align: right;\">\n",
       "      <th></th>\n",
       "      <th>accuracy_score</th>\n",
       "      <th>precision_score</th>\n",
       "      <th>recall_score</th>\n",
       "      <th>f1_score</th>\n",
       "    </tr>\n",
       "  </thead>\n",
       "  <tbody>\n",
       "    <tr>\n",
       "      <th>train</th>\n",
       "      <td>0.970760</td>\n",
       "      <td>0.971223</td>\n",
       "      <td>0.974729</td>\n",
       "      <td>0.972973</td>\n",
       "    </tr>\n",
       "    <tr>\n",
       "      <th>test</th>\n",
       "      <td>0.837209</td>\n",
       "      <td>0.896104</td>\n",
       "      <td>0.841463</td>\n",
       "      <td>0.867925</td>\n",
       "    </tr>\n",
       "  </tbody>\n",
       "</table>\n",
       "</div>"
      ],
      "text/plain": [
       "       accuracy_score  precision_score  recall_score  f1_score\n",
       "train        0.970760         0.971223      0.974729  0.972973\n",
       "test         0.837209         0.896104      0.841463  0.867925"
      ]
     },
     "metadata": {},
     "output_type": "display_data"
    },
    {
     "name": "stdout",
     "output_type": "stream",
     "text": [
      "\n",
      "#################### pipe_7の結果 ####################\n",
      "               コレステロールの補完と年齢カテゴライズ                \n",
      "-------------------- 評価結果 --------------------\n"
     ]
    },
    {
     "data": {
      "text/html": [
       "<div>\n",
       "<style scoped>\n",
       "    .dataframe tbody tr th:only-of-type {\n",
       "        vertical-align: middle;\n",
       "    }\n",
       "\n",
       "    .dataframe tbody tr th {\n",
       "        vertical-align: top;\n",
       "    }\n",
       "\n",
       "    .dataframe thead th {\n",
       "        text-align: right;\n",
       "    }\n",
       "</style>\n",
       "<table border=\"1\" class=\"dataframe\">\n",
       "  <thead>\n",
       "    <tr style=\"text-align: right;\">\n",
       "      <th></th>\n",
       "      <th>accuracy_score</th>\n",
       "      <th>precision_score</th>\n",
       "      <th>recall_score</th>\n",
       "      <th>f1_score</th>\n",
       "    </tr>\n",
       "  </thead>\n",
       "  <tbody>\n",
       "    <tr>\n",
       "      <th>train</th>\n",
       "      <td>0.935673</td>\n",
       "      <td>0.958647</td>\n",
       "      <td>0.920578</td>\n",
       "      <td>0.939227</td>\n",
       "    </tr>\n",
       "    <tr>\n",
       "      <th>test</th>\n",
       "      <td>0.837209</td>\n",
       "      <td>0.906667</td>\n",
       "      <td>0.829268</td>\n",
       "      <td>0.866242</td>\n",
       "    </tr>\n",
       "  </tbody>\n",
       "</table>\n",
       "</div>"
      ],
      "text/plain": [
       "       accuracy_score  precision_score  recall_score  f1_score\n",
       "train        0.935673         0.958647      0.920578  0.939227\n",
       "test         0.837209         0.906667      0.829268  0.866242"
      ]
     },
     "metadata": {},
     "output_type": "display_data"
    },
    {
     "name": "stdout",
     "output_type": "stream",
     "text": [
      "\n",
      "#################### pipe_8の結果 ####################\n",
      "          コレステロールの補完と年齢カテゴライズとSlopカテゴライズ          \n",
      "-------------------- 評価結果 --------------------\n"
     ]
    },
    {
     "data": {
      "text/html": [
       "<div>\n",
       "<style scoped>\n",
       "    .dataframe tbody tr th:only-of-type {\n",
       "        vertical-align: middle;\n",
       "    }\n",
       "\n",
       "    .dataframe tbody tr th {\n",
       "        vertical-align: top;\n",
       "    }\n",
       "\n",
       "    .dataframe thead th {\n",
       "        text-align: right;\n",
       "    }\n",
       "</style>\n",
       "<table border=\"1\" class=\"dataframe\">\n",
       "  <thead>\n",
       "    <tr style=\"text-align: right;\">\n",
       "      <th></th>\n",
       "      <th>accuracy_score</th>\n",
       "      <th>precision_score</th>\n",
       "      <th>recall_score</th>\n",
       "      <th>f1_score</th>\n",
       "    </tr>\n",
       "  </thead>\n",
       "  <tbody>\n",
       "    <tr>\n",
       "      <th>train</th>\n",
       "      <td>0.912281</td>\n",
       "      <td>0.914286</td>\n",
       "      <td>0.924188</td>\n",
       "      <td>0.919210</td>\n",
       "    </tr>\n",
       "    <tr>\n",
       "      <th>test</th>\n",
       "      <td>0.860465</td>\n",
       "      <td>0.932432</td>\n",
       "      <td>0.841463</td>\n",
       "      <td>0.884615</td>\n",
       "    </tr>\n",
       "  </tbody>\n",
       "</table>\n",
       "</div>"
      ],
      "text/plain": [
       "       accuracy_score  precision_score  recall_score  f1_score\n",
       "train        0.912281         0.914286      0.924188  0.919210\n",
       "test         0.860465         0.932432      0.841463  0.884615"
      ]
     },
     "metadata": {},
     "output_type": "display_data"
    },
    {
     "name": "stdout",
     "output_type": "stream",
     "text": [
      "\n"
     ]
    }
   ],
   "source": [
    "df = pd.read_csv('./data/train.csv')\n",
    "#################### グリッドサーチの探索候補を用意 #################\n",
    "tree_grid = {'max_depth':[3, 5, 7, 9, 15],\n",
    "              'learning_rate': [0.05, 0.1, 0.3],\n",
    "              'n_estimators': [50, 75, 100, 150],\n",
    "            }\n",
    "\n",
    "\n",
    "############################# 用意したパイプに渡す引数 ##############################\n",
    "to_grid_search = {'model': XGBClassifier,\n",
    "                  'param_grid': tree_grid,\n",
    "                  'model_arg': {'random_state': 42, 'early_stopping_rounds': 10}\n",
    "                  }\n",
    "\n",
    "pipe_kwargs = {'df': df,\n",
    "               'test_size': 0.2,\n",
    "               'to_grid_search': to_grid_search}\n",
    "\n",
    "######################## 用意したパイプラインをfor文で訓練 #########################\n",
    "pipe_lines = [pipe_1, pipe_2, pipe_3, pipe_4, pipe_5, pipe_6, pipe_7, pipe_8]  # 作ったdemo関数をリストでまとめる （）いらない\n",
    "models = {}  # 訓練したモデルの格納先\n",
    "for pipe in pipe_lines:\n",
    "    print('#'*20,f'{pipe.__name__}の結果', '#'*20)  # 表示結果のラベル\n",
    "    model = pipe(**pipe_kwargs)\n",
    "    models[pipe.__name__] = model\n",
    "    print()"
   ]
  },
  {
   "cell_type": "markdown",
   "metadata": {},
   "source": [
    "ベースラインとST_Slopの挙動が最も汎化性能がありそう<br>\n",
    "前回精度の向上がみれられたAgeカテゴライズについては過学習を校了されたためか<br>\n",
    "精度が低下しているよう"
   ]
  },
  {
   "cell_type": "code",
   "execution_count": 19,
   "metadata": {},
   "outputs": [
    {
     "data": {
      "text/plain": [
       "{'learning_rate': 0.05, 'max_depth': 3, 'n_estimators': 50}"
      ]
     },
     "execution_count": 19,
     "metadata": {},
     "output_type": "execute_result"
    }
   ],
   "source": [
    "models['pipe_4'].best_params_"
   ]
  },
  {
   "cell_type": "code",
   "execution_count": null,
   "metadata": {},
   "outputs": [],
   "source": []
  }
 ],
 "metadata": {
  "kernelspec": {
   "display_name": "Python 3.9.13 ('datascience')",
   "language": "python",
   "name": "python3"
  },
  "language_info": {
   "codemirror_mode": {
    "name": "ipython",
    "version": 3
   },
   "file_extension": ".py",
   "mimetype": "text/x-python",
   "name": "python",
   "nbconvert_exporter": "python",
   "pygments_lexer": "ipython3",
   "version": "3.9.13"
  },
  "orig_nbformat": 4,
  "vscode": {
   "interpreter": {
    "hash": "596b88989fc0dc1fed1e4e461c9c9f08188a37ef0bdca6efc263739311be1bbe"
   }
  }
 },
 "nbformat": 4,
 "nbformat_minor": 2
}
