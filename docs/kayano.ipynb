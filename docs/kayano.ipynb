{
 "cells": [
  {
   "cell_type": "code",
   "execution_count": 2,
   "metadata": {},
   "outputs": [],
   "source": [
    "from pathlib import Path\n",
    "import sys\n",
    "\n",
    "import pandas as pd\n",
    "from sklearn.tree import DecisionTreeClassifier\n",
    "\n",
    "rank = 0 \n",
    "sys.path[0] = f'{Path().resolve().parents[rank]}' # mymoduleが上の階層にある場合rankを調整してコメント解除\n",
    "from mymodule import PipeLine, grid_serch_cv\n",
    "from kayano import age_categolize, cholesterol_mean"
   ]
  },
  {
   "cell_type": "code",
   "execution_count": 4,
   "metadata": {},
   "outputs": [],
   "source": [
    "###################### グリッドサーチ用のパイプラインを用意 ########################\n",
    "def pipe_1(df, model, param_grid):\n",
    "    print(' '*15, 'ベースライン関数')\n",
    "    pipe = PipeLine()\n",
    "    pipe(df)\n",
    "    # 以下グリッドサーチ\n",
    "    pack = pipe.fold_out_split()\n",
    "    gs_model = grid_serch_cv(pack, param_grid, model)\n",
    "    return gs_model\n",
    "\n",
    "def pipe_2(df, model, param_grid):\n",
    "    print(' '*15, '年齢カテゴライズ')\n",
    "    pipe = PipeLine()\n",
    "    pipe(df)\n",
    "    pipe.df_num = age_categolize(pipe.df_num)\n",
    "    # 以下グリッドサーチ\n",
    "    pack = pipe.fold_out_split()\n",
    "    gs_model = grid_serch_cv(pack, param_grid, model)\n",
    "    return gs_model\n",
    "\n",
    "def pipe_3(df, model, param_grid):\n",
    "    print(' '*15, 'コレステロール平均補完')\n",
    "    df_cho = cholesterol_mean(df)  # HeartDiseaseを参照するため前もって処理\n",
    "    pipe = PipeLine()\n",
    "    pipe(df_cho)  # df_choを代入\n",
    "    # 以下グリッドサーチ\n",
    "    pack = pipe.fold_out_split()\n",
    "    gs_model = grid_serch_cv(pack, param_grid, model)\n",
    "    return gs_model\n",
    "\n",
    "def pipe_4(df, model, param_grid):\n",
    "    print(' '*15, '年齢補完 and コレステロール平均補完')\n",
    "    df_cho = cholesterol_mean(df)  # HeartDiseaseを参照するため前もって処理\n",
    "    pipe = PipeLine()\n",
    "    pipe(df_cho)  # df_choを代入\n",
    "    pipe.df_num = age_categolize(pipe.df_num)\n",
    "    # 以下グリッドサーチ\n",
    "    pack = pipe.fold_out_split()\n",
    "    gs_model = grid_serch_cv(pack, param_grid, model)\n",
    "    return gs_model"
   ]
  },
  {
   "cell_type": "code",
   "execution_count": 5,
   "metadata": {},
   "outputs": [
    {
     "name": "stdout",
     "output_type": "stream",
     "text": [
      "#################### pipe_1の結果 ####################\n",
      "                     ベースライン関数\n",
      "-------------------- 評価結果 --------------------\n"
     ]
    },
    {
     "data": {
      "text/html": [
       "<div>\n",
       "<style scoped>\n",
       "    .dataframe tbody tr th:only-of-type {\n",
       "        vertical-align: middle;\n",
       "    }\n",
       "\n",
       "    .dataframe tbody tr th {\n",
       "        vertical-align: top;\n",
       "    }\n",
       "\n",
       "    .dataframe thead th {\n",
       "        text-align: right;\n",
       "    }\n",
       "</style>\n",
       "<table border=\"1\" class=\"dataframe\">\n",
       "  <thead>\n",
       "    <tr style=\"text-align: right;\">\n",
       "      <th></th>\n",
       "      <th>accuracy_score</th>\n",
       "      <th>precision_score</th>\n",
       "      <th>recall_score</th>\n",
       "      <th>f1_score</th>\n",
       "    </tr>\n",
       "  </thead>\n",
       "  <tbody>\n",
       "    <tr>\n",
       "      <th>train</th>\n",
       "      <td>0.826281</td>\n",
       "      <td>0.828571</td>\n",
       "      <td>0.849372</td>\n",
       "      <td>0.838843</td>\n",
       "    </tr>\n",
       "    <tr>\n",
       "      <th>test</th>\n",
       "      <td>0.797927</td>\n",
       "      <td>0.852174</td>\n",
       "      <td>0.816667</td>\n",
       "      <td>0.834043</td>\n",
       "    </tr>\n",
       "  </tbody>\n",
       "</table>\n",
       "</div>"
      ],
      "text/plain": [
       "       accuracy_score  precision_score  recall_score  f1_score\n",
       "train        0.826281         0.828571      0.849372  0.838843\n",
       "test         0.797927         0.852174      0.816667  0.834043"
      ]
     },
     "metadata": {},
     "output_type": "display_data"
    },
    {
     "name": "stdout",
     "output_type": "stream",
     "text": [
      "\n",
      "#################### pipe_2の結果 ####################\n",
      "                年齢カテゴライズ\n",
      "-------------------- 評価結果 --------------------\n"
     ]
    },
    {
     "data": {
      "text/html": [
       "<div>\n",
       "<style scoped>\n",
       "    .dataframe tbody tr th:only-of-type {\n",
       "        vertical-align: middle;\n",
       "    }\n",
       "\n",
       "    .dataframe tbody tr th {\n",
       "        vertical-align: top;\n",
       "    }\n",
       "\n",
       "    .dataframe thead th {\n",
       "        text-align: right;\n",
       "    }\n",
       "</style>\n",
       "<table border=\"1\" class=\"dataframe\">\n",
       "  <thead>\n",
       "    <tr style=\"text-align: right;\">\n",
       "      <th></th>\n",
       "      <th>accuracy_score</th>\n",
       "      <th>precision_score</th>\n",
       "      <th>recall_score</th>\n",
       "      <th>f1_score</th>\n",
       "    </tr>\n",
       "  </thead>\n",
       "  <tbody>\n",
       "    <tr>\n",
       "      <th>train</th>\n",
       "      <td>0.821826</td>\n",
       "      <td>0.873239</td>\n",
       "      <td>0.778243</td>\n",
       "      <td>0.823009</td>\n",
       "    </tr>\n",
       "    <tr>\n",
       "      <th>test</th>\n",
       "      <td>0.818653</td>\n",
       "      <td>0.912621</td>\n",
       "      <td>0.783333</td>\n",
       "      <td>0.843049</td>\n",
       "    </tr>\n",
       "  </tbody>\n",
       "</table>\n",
       "</div>"
      ],
      "text/plain": [
       "       accuracy_score  precision_score  recall_score  f1_score\n",
       "train        0.821826         0.873239      0.778243  0.823009\n",
       "test         0.818653         0.912621      0.783333  0.843049"
      ]
     },
     "metadata": {},
     "output_type": "display_data"
    },
    {
     "name": "stdout",
     "output_type": "stream",
     "text": [
      "\n",
      "#################### pipe_3の結果 ####################\n",
      "                コレステロール平均補完\n",
      "-------------------- 評価結果 --------------------\n"
     ]
    },
    {
     "data": {
      "text/html": [
       "<div>\n",
       "<style scoped>\n",
       "    .dataframe tbody tr th:only-of-type {\n",
       "        vertical-align: middle;\n",
       "    }\n",
       "\n",
       "    .dataframe tbody tr th {\n",
       "        vertical-align: top;\n",
       "    }\n",
       "\n",
       "    .dataframe thead th {\n",
       "        text-align: right;\n",
       "    }\n",
       "</style>\n",
       "<table border=\"1\" class=\"dataframe\">\n",
       "  <thead>\n",
       "    <tr style=\"text-align: right;\">\n",
       "      <th></th>\n",
       "      <th>accuracy_score</th>\n",
       "      <th>precision_score</th>\n",
       "      <th>recall_score</th>\n",
       "      <th>f1_score</th>\n",
       "    </tr>\n",
       "  </thead>\n",
       "  <tbody>\n",
       "    <tr>\n",
       "      <th>train</th>\n",
       "      <td>0.850780</td>\n",
       "      <td>0.901869</td>\n",
       "      <td>0.807531</td>\n",
       "      <td>0.852097</td>\n",
       "    </tr>\n",
       "    <tr>\n",
       "      <th>test</th>\n",
       "      <td>0.803109</td>\n",
       "      <td>0.910000</td>\n",
       "      <td>0.758333</td>\n",
       "      <td>0.827273</td>\n",
       "    </tr>\n",
       "  </tbody>\n",
       "</table>\n",
       "</div>"
      ],
      "text/plain": [
       "       accuracy_score  precision_score  recall_score  f1_score\n",
       "train        0.850780         0.901869      0.807531  0.852097\n",
       "test         0.803109         0.910000      0.758333  0.827273"
      ]
     },
     "metadata": {},
     "output_type": "display_data"
    },
    {
     "name": "stdout",
     "output_type": "stream",
     "text": [
      "\n",
      "#################### pipe_4の結果 ####################\n",
      "                年齢補完 and コレステロール平均補完\n",
      "-------------------- 評価結果 --------------------\n"
     ]
    },
    {
     "data": {
      "text/html": [
       "<div>\n",
       "<style scoped>\n",
       "    .dataframe tbody tr th:only-of-type {\n",
       "        vertical-align: middle;\n",
       "    }\n",
       "\n",
       "    .dataframe tbody tr th {\n",
       "        vertical-align: top;\n",
       "    }\n",
       "\n",
       "    .dataframe thead th {\n",
       "        text-align: right;\n",
       "    }\n",
       "</style>\n",
       "<table border=\"1\" class=\"dataframe\">\n",
       "  <thead>\n",
       "    <tr style=\"text-align: right;\">\n",
       "      <th></th>\n",
       "      <th>accuracy_score</th>\n",
       "      <th>precision_score</th>\n",
       "      <th>recall_score</th>\n",
       "      <th>f1_score</th>\n",
       "    </tr>\n",
       "  </thead>\n",
       "  <tbody>\n",
       "    <tr>\n",
       "      <th>train</th>\n",
       "      <td>0.850780</td>\n",
       "      <td>0.905660</td>\n",
       "      <td>0.803347</td>\n",
       "      <td>0.851441</td>\n",
       "    </tr>\n",
       "    <tr>\n",
       "      <th>test</th>\n",
       "      <td>0.803109</td>\n",
       "      <td>0.894231</td>\n",
       "      <td>0.775000</td>\n",
       "      <td>0.830357</td>\n",
       "    </tr>\n",
       "  </tbody>\n",
       "</table>\n",
       "</div>"
      ],
      "text/plain": [
       "       accuracy_score  precision_score  recall_score  f1_score\n",
       "train        0.850780         0.905660      0.803347  0.851441\n",
       "test         0.803109         0.894231      0.775000  0.830357"
      ]
     },
     "metadata": {},
     "output_type": "display_data"
    },
    {
     "name": "stdout",
     "output_type": "stream",
     "text": [
      "\n"
     ]
    }
   ],
   "source": [
    "df = pd.read_csv('./data/train.csv')\n",
    "#################### グリッドサーチの探索候補を用意 #################\n",
    "tree_grid = {'max_depth':[3, 4, 5, 6, 7, 8],\n",
    "              'min_samples_leaf':[8,9,10,11,12,13],\n",
    "              'min_samples_split':[2, 3, 4, 5],\n",
    "              'random_state': [42]}\n",
    "\n",
    "############################# 用意した関数に渡す引数 ##############################\n",
    "pipe_kwargs = {'df': df,\n",
    "               'model': DecisionTreeClassifier,  # sklearnのモデル\n",
    "               'param_grid': tree_grid}\n",
    "\n",
    "######################## 用意したパイプラインをfor文で訓練 #########################\n",
    "pipe_lines = [pipe_1, pipe_2, pipe_3, pipe_4]  # 作ったdemo関数をリストでまとめる （）いらない\n",
    "models = []  # 訓練したモデルの格納先\n",
    "for pipe in pipe_lines:\n",
    "    print('#'*20,f'{pipe.__name__}の結果', '#'*20)  # 表示結果のラベル\n",
    "    model = pipe(**pipe_kwargs)\n",
    "    models.append(model)\n",
    "    print()"
   ]
  }
 ],
 "metadata": {
  "kernelspec": {
   "display_name": "Python 3.9.13 ('datascience')",
   "language": "python",
   "name": "python3"
  },
  "language_info": {
   "codemirror_mode": {
    "name": "ipython",
    "version": 3
   },
   "file_extension": ".py",
   "mimetype": "text/x-python",
   "name": "python",
   "nbconvert_exporter": "python",
   "pygments_lexer": "ipython3",
   "version": "3.9.13"
  },
  "orig_nbformat": 4,
  "vscode": {
   "interpreter": {
    "hash": "596b88989fc0dc1fed1e4e461c9c9f08188a37ef0bdca6efc263739311be1bbe"
   }
  }
 },
 "nbformat": 4,
 "nbformat_minor": 2
}
