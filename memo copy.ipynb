{
 "cells": [
  {
   "cell_type": "code",
   "execution_count": 1,
   "metadata": {},
   "outputs": [],
   "source": [
    "import numpy as np\n",
    "import pandas as pd\n",
    "\n",
    "from sklearn.svm import SVC\n",
    "from sklearn.model_selection import GridSearchCV\n",
    "\n",
    "from mymodule import PipeLine"
   ]
  },
  {
   "cell_type": "code",
   "execution_count": null,
   "metadata": {},
   "outputs": [],
   "source": [
    "# グリッドサーチの関数\n",
    "def grid_serch_cv(pipe, validation, param_range, param_grid, model):\n",
    "    pack = validation()\n",
    "    param_range = param_range\n",
    "    param_grid = param_grid\n",
    "\n",
    "    gs = GridSearchCV(estimator=SVC(), \n",
    "                    param_grid=param_grid,  # 設定した候補を代入\n",
    "                    scoring='accuracy', \n",
    "                    refit=True,\n",
    "                    cv=10,\n",
    "                    n_jobs=-1)\n",
    "    gs.fit(pack[0], pack[2])  # x_train = pack[0], y_train = pack[2]\n",
    "\n",
    "    valid, model = [validation.__name__, SVC]\n",
    "    params = gs.best_params_\n",
    "    model = pipe.training(valid=valid, Model=model ,params=params)\n",
    "    return model, gs.best_params_"
   ]
  },
  {
   "cell_type": "markdown",
   "metadata": {},
   "source": [
    "グリッドサーチ<span style = \"color: orange;\">なし</span>の場合"
   ]
  },
  {
   "cell_type": "code",
   "execution_count": 2,
   "metadata": {},
   "outputs": [
    {
     "data": {
      "text/html": [
       "<div>\n",
       "<style scoped>\n",
       "    .dataframe tbody tr th:only-of-type {\n",
       "        vertical-align: middle;\n",
       "    }\n",
       "\n",
       "    .dataframe tbody tr th {\n",
       "        vertical-align: top;\n",
       "    }\n",
       "\n",
       "    .dataframe thead th {\n",
       "        text-align: right;\n",
       "    }\n",
       "</style>\n",
       "<table border=\"1\" class=\"dataframe\">\n",
       "  <thead>\n",
       "    <tr style=\"text-align: right;\">\n",
       "      <th></th>\n",
       "      <th>accuracy_score</th>\n",
       "      <th>precision_score</th>\n",
       "      <th>recall_score</th>\n",
       "      <th>f1_score</th>\n",
       "    </tr>\n",
       "  </thead>\n",
       "  <tbody>\n",
       "    <tr>\n",
       "      <th>train</th>\n",
       "      <td>0.750557</td>\n",
       "      <td>0.774892</td>\n",
       "      <td>0.748954</td>\n",
       "      <td>0.761702</td>\n",
       "    </tr>\n",
       "    <tr>\n",
       "      <th>test</th>\n",
       "      <td>0.704663</td>\n",
       "      <td>0.773913</td>\n",
       "      <td>0.741667</td>\n",
       "      <td>0.757447</td>\n",
       "    </tr>\n",
       "  </tbody>\n",
       "</table>\n",
       "</div>"
      ],
      "text/plain": [
       "       accuracy_score  precision_score  recall_score  f1_score\n",
       "train        0.750557         0.774892      0.748954  0.761702\n",
       "test         0.704663         0.773913      0.741667  0.757447"
      ]
     },
     "metadata": {},
     "output_type": "display_data"
    }
   ],
   "source": [
    "df = pd.read_csv('./data/train.csv')\n",
    "\n",
    "pipe = PipeLine()\n",
    "pipe.viewer = False\n",
    "pipe(df)\n",
    "model = pipe.training(valid='fold_out_split', Model=SVC, params=params)"
   ]
  },
  {
   "cell_type": "markdown",
   "metadata": {},
   "source": [
    "グリッドサーチ<span style = \"color: orange;\">あり</span>の場合"
   ]
  },
  {
   "cell_type": "code",
   "execution_count": 6,
   "metadata": {},
   "outputs": [],
   "source": [
    "# グリッドサーチの探索候補\n",
    "param_range = [0.0001, 0.001, 0.01, 0.1, 1.0, 10, 1000]\n",
    "param_grid = [{'C': param_range,  # 正則化パラメータの係数を探索\n",
    "               'kernel': ['linear']},  # Linearのカーネル\n",
    "              {'C': param_range, \n",
    "               'gamma': param_range,  # カーネル係数を探索\n",
    "               'kernel': ['rbf']}]  # rbfのカーネル\n",
    "# 使用するモデル\n",
    "model = SVC  # クラスの()いらない"
   ]
  },
  {
   "cell_type": "code",
   "execution_count": 7,
   "metadata": {},
   "outputs": [],
   "source": [
    "pipe = PipeLine()\n",
    "pipe.viewer = False\n",
    "pipe(df)\n",
    "# PipeLineクラスのfold_out_splitインスタンスを生成しとく\n",
    "validation = pipe.fold_out_split  # 関数の()いらない\n",
    "# グリッドサーチの出番\n",
    "model, best_params = grid_serch_cv(pipe, validation, param_range, param_grid, model)"
   ]
  },
  {
   "cell_type": "code",
   "execution_count": null,
   "metadata": {},
   "outputs": [
    {
     "data": {
      "text/plain": [
       "{'C': 0.1, 'gamma': 0.1, 'kernel': 'rbf'}"
      ]
     },
     "execution_count": 10,
     "metadata": {},
     "output_type": "execute_result"
    }
   ],
   "source": [
    "best_params"
   ]
  }
 ],
 "metadata": {
  "kernelspec": {
   "display_name": "Python 3.9.13 ('datascience')",
   "language": "python",
   "name": "python3"
  },
  "language_info": {
   "codemirror_mode": {
    "name": "ipython",
    "version": 3
   },
   "file_extension": ".py",
   "mimetype": "text/x-python",
   "name": "python",
   "nbconvert_exporter": "python",
   "pygments_lexer": "ipython3",
   "version": "3.9.13"
  },
  "orig_nbformat": 4,
  "vscode": {
   "interpreter": {
    "hash": "596b88989fc0dc1fed1e4e461c9c9f08188a37ef0bdca6efc263739311be1bbe"
   }
  }
 },
 "nbformat": 4,
 "nbformat_minor": 2
}
