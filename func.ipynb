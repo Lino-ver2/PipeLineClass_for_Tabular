{
 "cells": [
  {
   "cell_type": "code",
   "execution_count": 2,
   "metadata": {},
   "outputs": [],
   "source": [
    "import numpy as np\n",
    "import pandas as pd\n",
    "\n",
    "from sklearn.svm import SVC\n",
    "from sklearn.tree import DecisionTreeClassifier\n",
    "\n",
    "from mymodule import PipeLine"
   ]
  },
  {
   "cell_type": "code",
   "execution_count": 3,
   "metadata": {},
   "outputs": [],
   "source": [
    "def demo1(df, valid, model, valid_args, params, flg=False):\n",
    "    pipe = PipeLine()\n",
    "    pipe.viewer = flg\n",
    "    pipe(df)\n",
    "    # kayano_data = func(pipe.df_num)\n",
    "    # pipe.df_num = kayano_data\n",
    "    pipe.standard_scaler()\n",
    "    pipe.one_hot(['ChestPainType'])\n",
    "    model = pipe.training(valid, model, valid_args, params)\n",
    "    return model\n",
    "\n",
    "def demo2(df, valid, model, valid_args, params, flg=False):\n",
    "    pipe = PipeLine()\n",
    "    pipe.viewer = flg\n",
    "    pipe(df)\n",
    "    pipe.standard_scaler()\n",
    "    #pipe.one_hot(['ChestPainType'])\n",
    "    model = pipe.training(valid, model, valid_args ,params)\n",
    "    return model\n",
    "\n",
    "def demo3(df, valid, model, valid_args, params, flg=False):\n",
    "    pipe = PipeLine()\n",
    "    pipe.viewer = flg\n",
    "    pipe(df)\n",
    "    pipe.standard_scaler()\n",
    "    pipe.one_hot(['ChestPainType'])\n",
    "    model = pipe.training(valid, model, valid_args ,params)\n",
    "    return model"
   ]
  },
  {
   "cell_type": "markdown",
   "metadata": {},
   "source": [
    "### 結果の出力"
   ]
  },
  {
   "cell_type": "code",
   "execution_count": 6,
   "metadata": {},
   "outputs": [
    {
     "name": "stdout",
     "output_type": "stream",
     "text": [
      "#################### demo1の結果 ####################\n"
     ]
    },
    {
     "data": {
      "text/html": [
       "<div>\n",
       "<style scoped>\n",
       "    .dataframe tbody tr th:only-of-type {\n",
       "        vertical-align: middle;\n",
       "    }\n",
       "\n",
       "    .dataframe tbody tr th {\n",
       "        vertical-align: top;\n",
       "    }\n",
       "\n",
       "    .dataframe thead th {\n",
       "        text-align: right;\n",
       "    }\n",
       "</style>\n",
       "<table border=\"1\" class=\"dataframe\">\n",
       "  <thead>\n",
       "    <tr style=\"text-align: right;\">\n",
       "      <th></th>\n",
       "      <th>accuracy_score</th>\n",
       "      <th>precision_score</th>\n",
       "      <th>recall_score</th>\n",
       "      <th>f1_score</th>\n",
       "    </tr>\n",
       "  </thead>\n",
       "  <tbody>\n",
       "    <tr>\n",
       "      <th>train</th>\n",
       "      <td>1.000000</td>\n",
       "      <td>1.000000</td>\n",
       "      <td>1.000000</td>\n",
       "      <td>1.000000</td>\n",
       "    </tr>\n",
       "    <tr>\n",
       "      <th>test</th>\n",
       "      <td>0.715026</td>\n",
       "      <td>0.764228</td>\n",
       "      <td>0.783333</td>\n",
       "      <td>0.773663</td>\n",
       "    </tr>\n",
       "  </tbody>\n",
       "</table>\n",
       "</div>"
      ],
      "text/plain": [
       "       accuracy_score  precision_score  recall_score  f1_score\n",
       "train        1.000000         1.000000      1.000000  1.000000\n",
       "test         0.715026         0.764228      0.783333  0.773663"
      ]
     },
     "metadata": {},
     "output_type": "display_data"
    },
    {
     "name": "stdout",
     "output_type": "stream",
     "text": [
      "\n",
      "#################### demo2の結果 ####################\n"
     ]
    },
    {
     "data": {
      "text/html": [
       "<div>\n",
       "<style scoped>\n",
       "    .dataframe tbody tr th:only-of-type {\n",
       "        vertical-align: middle;\n",
       "    }\n",
       "\n",
       "    .dataframe tbody tr th {\n",
       "        vertical-align: top;\n",
       "    }\n",
       "\n",
       "    .dataframe thead th {\n",
       "        text-align: right;\n",
       "    }\n",
       "</style>\n",
       "<table border=\"1\" class=\"dataframe\">\n",
       "  <thead>\n",
       "    <tr style=\"text-align: right;\">\n",
       "      <th></th>\n",
       "      <th>accuracy_score</th>\n",
       "      <th>precision_score</th>\n",
       "      <th>recall_score</th>\n",
       "      <th>f1_score</th>\n",
       "    </tr>\n",
       "  </thead>\n",
       "  <tbody>\n",
       "    <tr>\n",
       "      <th>train</th>\n",
       "      <td>1.000000</td>\n",
       "      <td>1.000000</td>\n",
       "      <td>1.0</td>\n",
       "      <td>1.000000</td>\n",
       "    </tr>\n",
       "    <tr>\n",
       "      <th>test</th>\n",
       "      <td>0.766839</td>\n",
       "      <td>0.820513</td>\n",
       "      <td>0.8</td>\n",
       "      <td>0.810127</td>\n",
       "    </tr>\n",
       "  </tbody>\n",
       "</table>\n",
       "</div>"
      ],
      "text/plain": [
       "       accuracy_score  precision_score  recall_score  f1_score\n",
       "train        1.000000         1.000000           1.0  1.000000\n",
       "test         0.766839         0.820513           0.8  0.810127"
      ]
     },
     "metadata": {},
     "output_type": "display_data"
    },
    {
     "name": "stdout",
     "output_type": "stream",
     "text": [
      "\n",
      "#################### demo3の結果 ####################\n"
     ]
    },
    {
     "data": {
      "text/html": [
       "<div>\n",
       "<style scoped>\n",
       "    .dataframe tbody tr th:only-of-type {\n",
       "        vertical-align: middle;\n",
       "    }\n",
       "\n",
       "    .dataframe tbody tr th {\n",
       "        vertical-align: top;\n",
       "    }\n",
       "\n",
       "    .dataframe thead th {\n",
       "        text-align: right;\n",
       "    }\n",
       "</style>\n",
       "<table border=\"1\" class=\"dataframe\">\n",
       "  <thead>\n",
       "    <tr style=\"text-align: right;\">\n",
       "      <th></th>\n",
       "      <th>accuracy_score</th>\n",
       "      <th>precision_score</th>\n",
       "      <th>recall_score</th>\n",
       "      <th>f1_score</th>\n",
       "    </tr>\n",
       "  </thead>\n",
       "  <tbody>\n",
       "    <tr>\n",
       "      <th>train</th>\n",
       "      <td>1.000000</td>\n",
       "      <td>1.000000</td>\n",
       "      <td>1.000000</td>\n",
       "      <td>1.000000</td>\n",
       "    </tr>\n",
       "    <tr>\n",
       "      <th>test</th>\n",
       "      <td>0.715026</td>\n",
       "      <td>0.764228</td>\n",
       "      <td>0.783333</td>\n",
       "      <td>0.773663</td>\n",
       "    </tr>\n",
       "  </tbody>\n",
       "</table>\n",
       "</div>"
      ],
      "text/plain": [
       "       accuracy_score  precision_score  recall_score  f1_score\n",
       "train        1.000000         1.000000      1.000000  1.000000\n",
       "test         0.715026         0.764228      0.783333  0.773663"
      ]
     },
     "metadata": {},
     "output_type": "display_data"
    },
    {
     "name": "stdout",
     "output_type": "stream",
     "text": [
      "\n"
     ]
    }
   ],
   "source": [
    "df = pd.read_csv('./data/train.csv')\n",
    "\n",
    "############################# パラメータの設定 ###################################\n",
    "valid, model = ['fold_out_split', DecisionTreeClassifier]  # 分割数とモデルを指定\n",
    "valid_args = {}  # ホールドアウト法なのでテストサイズの割合を指定\n",
    "params = {'random_state': 42}    # 選択したモデルパラメータを入力\n",
    "###############################################################################\n",
    "\n",
    "args = {'df': df,\n",
    "        'valid': valid,\n",
    "        'model': model,\n",
    "        'valid_args': valid_args,\n",
    "        'params': params,\n",
    "        'flg': False}\n",
    "\n",
    "models = [demo1, demo2, demo3]  # 作った関数を代入 ※（）いらない\n",
    "train_models = []\n",
    "for model in models:\n",
    "    print('#'*20,f'{model.__name__}の結果', '#'*20)\n",
    "    trained = model(**args)\n",
    "    train_models.append(trained)\n",
    "    print()"
   ]
  },
  {
   "cell_type": "code",
   "execution_count": null,
   "metadata": {},
   "outputs": [],
   "source": []
  }
 ],
 "metadata": {
  "kernelspec": {
   "display_name": "Python 3.9.13 ('datascience')",
   "language": "python",
   "name": "python3"
  },
  "language_info": {
   "codemirror_mode": {
    "name": "ipython",
    "version": 3
   },
   "file_extension": ".py",
   "mimetype": "text/x-python",
   "name": "python",
   "nbconvert_exporter": "python",
   "pygments_lexer": "ipython3",
   "version": "3.9.13"
  },
  "orig_nbformat": 4,
  "vscode": {
   "interpreter": {
    "hash": "596b88989fc0dc1fed1e4e461c9c9f08188a37ef0bdca6efc263739311be1bbe"
   }
  }
 },
 "nbformat": 4,
 "nbformat_minor": 2
}
