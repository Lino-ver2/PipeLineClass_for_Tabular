{
 "cells": [
  {
   "cell_type": "code",
   "execution_count": 1,
   "metadata": {},
   "outputs": [],
   "source": [
    "import pickle\n",
    "\n",
    "import pandas as pd\n",
    "from sklearn.svm import SVC\n",
    "from xgboost import XGBClassifier\n",
    "\n",
    "from module.mymodule import test_eval\n",
    "from features import pipe_1, pipe_2, pipe_3, pipe_4, pipe_5, pipe_6, pipe_7,\\\n",
    "                     pipe_8, pipe_9, pipe_10, pipe_11, pipe_12, pipe_13, pipe_14"
   ]
  },
  {
   "cell_type": "markdown",
   "metadata": {},
   "source": [
    "### データセットの用意"
   ]
  },
  {
   "cell_type": "code",
   "execution_count": 2,
   "metadata": {},
   "outputs": [],
   "source": [
    "data = pd.read_csv('./data/train.csv')\n",
    "df = data.iloc[:, :-1]\n",
    "y = data.iloc[:, -1]"
   ]
  },
  {
   "cell_type": "markdown",
   "metadata": {},
   "source": [
    "### パイプライン候補の準備"
   ]
  },
  {
   "cell_type": "markdown",
   "metadata": {},
   "source": [
    "### データセットの作成"
   ]
  },
  {
   "cell_type": "code",
   "execution_count": null,
   "metadata": {},
   "outputs": [],
   "source": [
    "to_pipe ={\n",
    "            'df': df,\n",
    "            'split_kwrg': {},\n",
    "            'train_flg': False,\n",
    "            'retrain': False,\n",
    "            }\n",
    "\n",
    "pipe_lines = [\n",
    "            pipe_1,  # base \n",
    "            pipe_2,  # StSlopeCat\n",
    "            pipe_3,  # CholsetMean\n",
    "            pipe_4,  # AgeCat\n",
    "            pipe_5,  # StSlopeCat CholetMean AgeCat\n",
    "            pipe_6,  # RestingBpCat\n",
    "            pipe_7,  # OldPeakCat\n",
    "            pipe_8,  # RestingBpCat OldPeakCat\n",
    "            pipe_9,  # Onehot\n",
    "            pipe_10,  # CholestMean AgeCat Onehot\n",
    "            pipe_11,  # CholCut\n",
    "            pipe_12,  # CholCut Onehot,\n",
    "            pipe_13,  # DropByShap\n",
    "            pipe_14,\n",
    "            ]  # 特徴量候補を設定\n",
    "data_set = {pipe.__name__: pipe(**to_pipe) for pipe in pipe_lines}"
   ]
  },
  {
   "cell_type": "markdown",
   "metadata": {},
   "source": [
    "### モデルのロード"
   ]
  },
  {
   "cell_type": "code",
   "execution_count": 4,
   "metadata": {},
   "outputs": [],
   "source": [
    "file_name = 'mixed'\n",
    "with open(f'./data/{file_name}.pkl', 'rb') as f:\n",
    "    train_models = pickle.load(f)"
   ]
  },
  {
   "cell_type": "markdown",
   "metadata": {},
   "source": [
    "### モデルの評価と選定"
   ]
  },
  {
   "cell_type": "code",
   "execution_count": 6,
   "metadata": {},
   "outputs": [
    {
     "name": "stderr",
     "output_type": "stream",
     "text": [
      "/Users/lino/opt/anaconda3/envs/datascience/lib/python3.9/site-packages/sklearn/base.py:443: UserWarning: X has feature names, but SVC was fitted without feature names\n",
      "  warnings.warn(\n",
      "/Users/lino/opt/anaconda3/envs/datascience/lib/python3.9/site-packages/sklearn/base.py:443: UserWarning: X has feature names, but SVC was fitted without feature names\n",
      "  warnings.warn(\n",
      "/Users/lino/opt/anaconda3/envs/datascience/lib/python3.9/site-packages/sklearn/base.py:443: UserWarning: X has feature names, but SVC was fitted without feature names\n",
      "  warnings.warn(\n",
      "/Users/lino/opt/anaconda3/envs/datascience/lib/python3.9/site-packages/sklearn/base.py:443: UserWarning: X has feature names, but SVC was fitted without feature names\n",
      "  warnings.warn(\n",
      "/Users/lino/opt/anaconda3/envs/datascience/lib/python3.9/site-packages/sklearn/base.py:443: UserWarning: X has feature names, but SVC was fitted without feature names\n",
      "  warnings.warn(\n",
      "/Users/lino/opt/anaconda3/envs/datascience/lib/python3.9/site-packages/sklearn/base.py:443: UserWarning: X has feature names, but SVC was fitted without feature names\n",
      "  warnings.warn(\n"
     ]
    },
    {
     "data": {
      "text/html": [
       "<div>\n",
       "<style scoped>\n",
       "    .dataframe tbody tr th:only-of-type {\n",
       "        vertical-align: middle;\n",
       "    }\n",
       "\n",
       "    .dataframe tbody tr th {\n",
       "        vertical-align: top;\n",
       "    }\n",
       "\n",
       "    .dataframe thead th {\n",
       "        text-align: right;\n",
       "    }\n",
       "</style>\n",
       "<table border=\"1\" class=\"dataframe\">\n",
       "  <thead>\n",
       "    <tr style=\"text-align: right;\">\n",
       "      <th></th>\n",
       "      <th>XGBClassifier</th>\n",
       "      <th>SVC</th>\n",
       "    </tr>\n",
       "  </thead>\n",
       "  <tbody>\n",
       "    <tr>\n",
       "      <th>pipe_9</th>\n",
       "      <td>0.926791</td>\n",
       "      <td>0.873832</td>\n",
       "    </tr>\n",
       "    <tr>\n",
       "      <th>pipe_10</th>\n",
       "      <td>0.903427</td>\n",
       "      <td>0.873832</td>\n",
       "    </tr>\n",
       "    <tr>\n",
       "      <th>pipe_12</th>\n",
       "      <td>0.897196</td>\n",
       "      <td>0.873832</td>\n",
       "    </tr>\n",
       "    <tr>\n",
       "      <th>pipe_13</th>\n",
       "      <td>0.917445</td>\n",
       "      <td>0.873832</td>\n",
       "    </tr>\n",
       "    <tr>\n",
       "      <th>pipe_14</th>\n",
       "      <td>0.915888</td>\n",
       "      <td>0.859813</td>\n",
       "    </tr>\n",
       "    <tr>\n",
       "      <th>pipe_11</th>\n",
       "      <td>0.831776</td>\n",
       "      <td>0.771028</td>\n",
       "    </tr>\n",
       "  </tbody>\n",
       "</table>\n",
       "</div>"
      ],
      "text/plain": [
       "         XGBClassifier       SVC\n",
       "pipe_9        0.926791  0.873832\n",
       "pipe_10       0.903427  0.873832\n",
       "pipe_12       0.897196  0.873832\n",
       "pipe_13       0.917445  0.873832\n",
       "pipe_14       0.915888  0.859813\n",
       "pipe_11       0.831776  0.771028"
      ]
     },
     "execution_count": 6,
     "metadata": {},
     "output_type": "execute_result"
    }
   ],
   "source": [
    "with open(f'./data/{file_name}.pkl', 'rb') as f:\n",
    "    train_models = pickle.load(f)\n",
    "evaluations = test_eval(train_models, pipe_lines, data_set, y)\n",
    "evaluations.sort_values('SVC', ascending=False)"
   ]
  },
  {
   "cell_type": "code",
   "execution_count": 8,
   "metadata": {},
   "outputs": [
    {
     "data": {
      "text/html": [
       "<div>\n",
       "<style scoped>\n",
       "    .dataframe tbody tr th:only-of-type {\n",
       "        vertical-align: middle;\n",
       "    }\n",
       "\n",
       "    .dataframe tbody tr th {\n",
       "        vertical-align: top;\n",
       "    }\n",
       "\n",
       "    .dataframe thead th {\n",
       "        text-align: right;\n",
       "    }\n",
       "</style>\n",
       "<table border=\"1\" class=\"dataframe\">\n",
       "  <thead>\n",
       "    <tr style=\"text-align: right;\">\n",
       "      <th></th>\n",
       "      <th>XGBClassifier</th>\n",
       "      <th>SVC</th>\n",
       "    </tr>\n",
       "  </thead>\n",
       "  <tbody>\n",
       "    <tr>\n",
       "      <th>pipe_9</th>\n",
       "      <td>0.926791</td>\n",
       "      <td>0.873832</td>\n",
       "    </tr>\n",
       "    <tr>\n",
       "      <th>pipe_13</th>\n",
       "      <td>0.917445</td>\n",
       "      <td>0.873832</td>\n",
       "    </tr>\n",
       "    <tr>\n",
       "      <th>pipe_14</th>\n",
       "      <td>0.915888</td>\n",
       "      <td>0.859813</td>\n",
       "    </tr>\n",
       "    <tr>\n",
       "      <th>pipe_10</th>\n",
       "      <td>0.903427</td>\n",
       "      <td>0.873832</td>\n",
       "    </tr>\n",
       "    <tr>\n",
       "      <th>pipe_12</th>\n",
       "      <td>0.897196</td>\n",
       "      <td>0.873832</td>\n",
       "    </tr>\n",
       "    <tr>\n",
       "      <th>pipe_11</th>\n",
       "      <td>0.831776</td>\n",
       "      <td>0.771028</td>\n",
       "    </tr>\n",
       "  </tbody>\n",
       "</table>\n",
       "</div>"
      ],
      "text/plain": [
       "         XGBClassifier       SVC\n",
       "pipe_9        0.926791  0.873832\n",
       "pipe_13       0.917445  0.873832\n",
       "pipe_14       0.915888  0.859813\n",
       "pipe_10       0.903427  0.873832\n",
       "pipe_12       0.897196  0.873832\n",
       "pipe_11       0.831776  0.771028"
      ]
     },
     "execution_count": 8,
     "metadata": {},
     "output_type": "execute_result"
    }
   ],
   "source": [
    "evaluations.sort_values(XGBClassifier.__name__, ascending=False)"
   ]
  },
  {
   "cell_type": "code",
   "execution_count": null,
   "metadata": {},
   "outputs": [],
   "source": []
  }
 ],
 "metadata": {
  "kernelspec": {
   "display_name": "Python 3.9.13 ('datascience')",
   "language": "python",
   "name": "python3"
  },
  "language_info": {
   "codemirror_mode": {
    "name": "ipython",
    "version": 3
   },
   "file_extension": ".py",
   "mimetype": "text/x-python",
   "name": "python",
   "nbconvert_exporter": "python",
   "pygments_lexer": "ipython3",
   "version": "3.9.13"
  },
  "orig_nbformat": 4,
  "vscode": {
   "interpreter": {
    "hash": "596b88989fc0dc1fed1e4e461c9c9f08188a37ef0bdca6efc263739311be1bbe"
   }
  }
 },
 "nbformat": 4,
 "nbformat_minor": 2
}
