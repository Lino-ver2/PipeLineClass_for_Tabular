{
 "cells": [
  {
   "cell_type": "code",
   "execution_count": 1,
   "metadata": {},
   "outputs": [],
   "source": [
    "import pickle\n",
    "from pathlib import Path\n",
    "import sys\n",
    "\n",
    "import pandas as pd\n",
    "from sklearn.svm import SVC\n",
    "from xgboost import XGBClassifier\n",
    "\n",
    "rank = 0 \n",
    "#sys.path[0] = f'{Path().resolve().parents[rank]}' # mymoduleが上の階層にある場合rankを調整してコメント解除\n",
    "from mymodule import PipeLine, df_copy, train_or_test\n",
    "from kayano import age_categolize, stSlope_categolize, cholesterol_mean"
   ]
  },
  {
   "cell_type": "code",
   "execution_count": 2,
   "metadata": {},
   "outputs": [],
   "source": [
    "df = pd.read_csv('./data/train.csv')"
   ]
  },
  {
   "cell_type": "code",
   "execution_count": 3,
   "metadata": {},
   "outputs": [],
   "source": [
    "def pipe_1(df, train_flg, split_kwrg):\n",
    "    pipe = PipeLine()\n",
    "    pipe.train_flg = train_flg\n",
    "    pipe(df)\n",
    "    return pipe.df_num, pipe.df_target\n",
    "\n",
    "def pipe_2(df, train_flg, split_kwrg):\n",
    "    pipe = PipeLine()\n",
    "    pipe.train_flg = train_flg\n",
    "    pipe(df)\n",
    "    pipe.df_num = df_copy(pipe.df_num, stSlope_categolize(pipe.df_cat), 'ST_Slope')\n",
    "    return pipe.df_num, pipe.df_target\n",
    "\n",
    "def pipe_3(df, train_flg, split_kwrg):\n",
    "    pipe = PipeLine()\n",
    "    pipe.train_flg = train_flg\n",
    "    pipe.train_flg = train_flg\n",
    "    pipe(df)\n",
    "    pipe.df_num = cholesterol_mean(pipe.df_num)\n",
    "    return pipe.df_num, pipe.df_target"
   ]
  },
  {
   "cell_type": "code",
   "execution_count": 4,
   "metadata": {},
   "outputs": [],
   "source": [
    "split_kwrg = {}\n",
    "train_flg = True\n",
    "\n",
    "pipe_lines = [pipe_1, pipe_2, pipe_3]  # 特徴量候補を設定\n",
    "data_set = {pipe.__name__: pipe(df, train_flg, split_kwrg) for pipe in pipe_lines}"
   ]
  },
  {
   "cell_type": "code",
   "execution_count": 27,
   "metadata": {},
   "outputs": [
    {
     "data": {
      "text/html": [
       "<div>\n",
       "<style scoped>\n",
       "    .dataframe tbody tr th:only-of-type {\n",
       "        vertical-align: middle;\n",
       "    }\n",
       "\n",
       "    .dataframe tbody tr th {\n",
       "        vertical-align: top;\n",
       "    }\n",
       "\n",
       "    .dataframe thead th {\n",
       "        text-align: right;\n",
       "    }\n",
       "</style>\n",
       "<table border=\"1\" class=\"dataframe\">\n",
       "  <thead>\n",
       "    <tr style=\"text-align: right;\">\n",
       "      <th></th>\n",
       "      <th>HeartDisease</th>\n",
       "    </tr>\n",
       "  </thead>\n",
       "  <tbody>\n",
       "    <tr>\n",
       "      <th>0</th>\n",
       "      <td>1</td>\n",
       "    </tr>\n",
       "    <tr>\n",
       "      <th>1</th>\n",
       "      <td>0</td>\n",
       "    </tr>\n",
       "    <tr>\n",
       "      <th>2</th>\n",
       "      <td>1</td>\n",
       "    </tr>\n",
       "    <tr>\n",
       "      <th>3</th>\n",
       "      <td>1</td>\n",
       "    </tr>\n",
       "    <tr>\n",
       "      <th>4</th>\n",
       "      <td>0</td>\n",
       "    </tr>\n",
       "    <tr>\n",
       "      <th>...</th>\n",
       "      <td>...</td>\n",
       "    </tr>\n",
       "    <tr>\n",
       "      <th>637</th>\n",
       "      <td>1</td>\n",
       "    </tr>\n",
       "    <tr>\n",
       "      <th>638</th>\n",
       "      <td>1</td>\n",
       "    </tr>\n",
       "    <tr>\n",
       "      <th>639</th>\n",
       "      <td>1</td>\n",
       "    </tr>\n",
       "    <tr>\n",
       "      <th>640</th>\n",
       "      <td>0</td>\n",
       "    </tr>\n",
       "    <tr>\n",
       "      <th>641</th>\n",
       "      <td>1</td>\n",
       "    </tr>\n",
       "  </tbody>\n",
       "</table>\n",
       "<p>642 rows × 1 columns</p>\n",
       "</div>"
      ],
      "text/plain": [
       "     HeartDisease\n",
       "0               1\n",
       "1               0\n",
       "2               1\n",
       "3               1\n",
       "4               0\n",
       "..            ...\n",
       "637             1\n",
       "638             1\n",
       "639             1\n",
       "640             0\n",
       "641             1\n",
       "\n",
       "[642 rows x 1 columns]"
      ]
     },
     "execution_count": 27,
     "metadata": {},
     "output_type": "execute_result"
    }
   ],
   "source": [
    "data_set['pipe_1'][1]"
   ]
  },
  {
   "cell_type": "code",
   "execution_count": 5,
   "metadata": {},
   "outputs": [],
   "source": [
    "with open('./data/model.pkl', 'rb') as f:\n",
    "    trained_models = pickle.load(f)"
   ]
  },
  {
   "cell_type": "code",
   "execution_count": 6,
   "metadata": {},
   "outputs": [],
   "source": [
    "def best_parameters(train_models, pipe_lines):\n",
    "    parameters = {}\n",
    "    for key in train_models.keys():\n",
    "        model = train_models[key]\n",
    "        best_params = {}\n",
    "        for pipe in pipe_lines:\n",
    "            best = model[pipe.__name__].best_params_\n",
    "            best_params[pipe.__name__] = best\n",
    "        parameters[key] = best_params\n",
    "    return parameters"
   ]
  },
  {
   "cell_type": "code",
   "execution_count": 7,
   "metadata": {},
   "outputs": [],
   "source": [
    "best_param = best_parameters(trained_models, pipe_lines)\n",
    "retrain = [XGBClassifier, SVC]"
   ]
  },
  {
   "cell_type": "code",
   "execution_count": 13,
   "metadata": {},
   "outputs": [],
   "source": [
    "retrained = {}\n",
    "for re_tr in retrain:\n",
    "    retrained[re_tr.__name__] = {}\n",
    "    for pipe in pipe_lines:\n",
    "        x, y = data_set[pipe.__name__]\n",
    "        param = best_param[re_tr.__name__][pipe.__name__]\n",
    "        model = re_tr(**param)\n",
    "        model.fit(x.values, y.values.reshape(-1))\n",
    "        retrained[re_tr.__name__][pipe.__name__] = model\n",
    "\n",
    "with open('retrained_model.pkl', 'wb') as f:\n",
    "    pickle.dump(retrained, f)"
   ]
  }
 ],
 "metadata": {
  "kernelspec": {
   "display_name": "Python 3.9.13 ('datascience')",
   "language": "python",
   "name": "python3"
  },
  "language_info": {
   "codemirror_mode": {
    "name": "ipython",
    "version": 3
   },
   "file_extension": ".py",
   "mimetype": "text/x-python",
   "name": "python",
   "nbconvert_exporter": "python",
   "pygments_lexer": "ipython3",
   "version": "3.9.13"
  },
  "orig_nbformat": 4,
  "vscode": {
   "interpreter": {
    "hash": "596b88989fc0dc1fed1e4e461c9c9f08188a37ef0bdca6efc263739311be1bbe"
   }
  }
 },
 "nbformat": 4,
 "nbformat_minor": 2
}
