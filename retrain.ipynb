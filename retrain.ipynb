{
 "cells": [
  {
   "cell_type": "code",
   "execution_count": 1,
   "metadata": {},
   "outputs": [],
   "source": [
    "import pickle\n",
    "from pathlib import Path\n",
    "import sys\n",
    "\n",
    "import pandas as pd\n",
    "from sklearn.svm import SVC\n",
    "from xgboost import XGBClassifier\n",
    "\n",
    "rank = 0 \n",
    "#sys.path[0] = f'{Path().resolve().parents[rank]}' # mymoduleが上の階層にある場合rankを調整してコメント解除\n",
    "from module.mymodule import PipeLine, df_copy, best_parameters\n",
    "from module.kayano import age_categolize, stSlope_categolize, cholesterol_mean"
   ]
  },
  {
   "cell_type": "markdown",
   "metadata": {},
   "source": [
    "### オリジナルデータの呼び出し"
   ]
  },
  {
   "cell_type": "code",
   "execution_count": 2,
   "metadata": {},
   "outputs": [],
   "source": [
    "df = pd.read_csv('./data/train.csv')"
   ]
  },
  {
   "cell_type": "markdown",
   "metadata": {},
   "source": [
    "### パイプライン候補の準備"
   ]
  },
  {
   "cell_type": "code",
   "execution_count": 3,
   "metadata": {},
   "outputs": [],
   "source": [
    "def pipe_1(df, train_flg, split_kwrg):\n",
    "    pipe = PipeLine()\n",
    "    pipe.train_flg = train_flg\n",
    "    pipe(df)\n",
    "    pipe.standard_scaler()\n",
    "    return pipe.df_num, pipe.df_target  # ここの出力を書き換える必要あり\n",
    "\n",
    "def pipe_2(df, train_flg, split_kwrg):\n",
    "    pipe = PipeLine()\n",
    "    pipe.train_flg = train_flg\n",
    "    pipe(df)\n",
    "    pipe.df_num = df_copy(pipe.df_num, stSlope_categolize(pipe.df_cat), 'ST_Slope')\n",
    "    pipe.standard_scaler()\n",
    "    return pipe.df_num, pipe.df_target  # ここの出力を書き換える必要あり\n",
    "\n",
    "def pipe_3(df, train_flg, split_kwrg):\n",
    "    pipe = PipeLine()\n",
    "    pipe.train_flg = train_flg\n",
    "    pipe.train_flg = train_flg\n",
    "    pipe(df)\n",
    "    pipe.df_num = cholesterol_mean(pipe.df_num)\n",
    "    pipe.standard_scaler()\n",
    "    return pipe.df_num, pipe.df_target  # ここの出力を書き換える必要あり"
   ]
  },
  {
   "cell_type": "markdown",
   "metadata": {},
   "source": [
    "### データセットの作成"
   ]
  },
  {
   "cell_type": "code",
   "execution_count": 4,
   "metadata": {},
   "outputs": [],
   "source": [
    "split_kwrg = {}\n",
    "train_flg = True\n",
    "\n",
    "pipe_lines = [pipe_1, pipe_2, pipe_3]  # 特徴量候補を設定\n",
    "data_set = {pipe.__name__: pipe(df, train_flg, split_kwrg) for pipe in pipe_lines}"
   ]
  },
  {
   "cell_type": "markdown",
   "metadata": {},
   "source": [
    "### グリットサーチで訓練したモデルの呼び出し"
   ]
  },
  {
   "cell_type": "code",
   "execution_count": 5,
   "metadata": {},
   "outputs": [],
   "source": [
    "with open('./data/model.pkl', 'rb') as f:\n",
    "    trained_models = pickle.load(f)"
   ]
  },
  {
   "cell_type": "markdown",
   "metadata": {},
   "source": [
    "### 最適なパラメータで再訓練"
   ]
  },
  {
   "cell_type": "code",
   "execution_count": 6,
   "metadata": {},
   "outputs": [],
   "source": [
    "best_param = best_parameters(trained_models, pipe_lines)\n",
    "retrain = [XGBClassifier, SVC]\n",
    "\n",
    "retrained = {}\n",
    "for re_tr in retrain:\n",
    "    retrained[re_tr.__name__] = {}\n",
    "    for pipe in pipe_lines:\n",
    "        x, y = data_set[pipe.__name__]\n",
    "        param = best_param[re_tr.__name__][pipe.__name__]\n",
    "        model = re_tr(**param)\n",
    "        model.fit(x.values, y.values.reshape(-1))\n",
    "        retrained[re_tr.__name__][pipe.__name__] = model\n",
    "\n",
    "with open('retrained_model.pkl', 'wb') as f:\n",
    "    pickle.dump(retrained, f)"
   ]
  }
 ],
 "metadata": {
  "kernelspec": {
   "display_name": "Python 3.9.13 ('datascience')",
   "language": "python",
   "name": "python3"
  },
  "language_info": {
   "codemirror_mode": {
    "name": "ipython",
    "version": 3
   },
   "file_extension": ".py",
   "mimetype": "text/x-python",
   "name": "python",
   "nbconvert_exporter": "python",
   "pygments_lexer": "ipython3",
   "version": "3.9.13"
  },
  "orig_nbformat": 4,
  "vscode": {
   "interpreter": {
    "hash": "596b88989fc0dc1fed1e4e461c9c9f08188a37ef0bdca6efc263739311be1bbe"
   }
  }
 },
 "nbformat": 4,
 "nbformat_minor": 2
}
